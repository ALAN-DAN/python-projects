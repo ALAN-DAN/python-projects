{
 "cells": [
  {
   "cell_type": "markdown",
   "metadata": {},
   "source": [
    "# Modelo RNN-LSTM"
   ]
  },
  {
   "cell_type": "markdown",
   "metadata": {},
   "source": [
    "![tittle](Images/lstm.png)"
   ]
  },
  {
   "cell_type": "code",
   "execution_count": 1,
   "metadata": {},
   "outputs": [],
   "source": [
    "from tensorflow import keras as kr\n",
    "from sklearn.preprocessing import MinMaxScaler\n",
    "import numpy as np\n",
    "import pandas as pd\n",
    "import matplotlib.pyplot as plt\n",
    "import yfinance as yf"
   ]
  },
  {
   "cell_type": "code",
   "execution_count": 2,
   "metadata": {},
   "outputs": [
    {
     "data": {
      "text/html": [
       "<div>\n",
       "<style scoped>\n",
       "    .dataframe tbody tr th:only-of-type {\n",
       "        vertical-align: middle;\n",
       "    }\n",
       "\n",
       "    .dataframe tbody tr th {\n",
       "        vertical-align: top;\n",
       "    }\n",
       "\n",
       "    .dataframe thead th {\n",
       "        text-align: right;\n",
       "    }\n",
       "</style>\n",
       "<table border=\"1\" class=\"dataframe\">\n",
       "  <thead>\n",
       "    <tr style=\"text-align: right;\">\n",
       "      <th></th>\n",
       "      <th>Open</th>\n",
       "      <th>High</th>\n",
       "      <th>Low</th>\n",
       "      <th>Close</th>\n",
       "      <th>Volume</th>\n",
       "      <th>Dividends</th>\n",
       "      <th>Stock Splits</th>\n",
       "    </tr>\n",
       "    <tr>\n",
       "      <th>Date</th>\n",
       "      <th></th>\n",
       "      <th></th>\n",
       "      <th></th>\n",
       "      <th></th>\n",
       "      <th></th>\n",
       "      <th></th>\n",
       "      <th></th>\n",
       "    </tr>\n",
       "  </thead>\n",
       "  <tbody>\n",
       "    <tr>\n",
       "      <th>2005-04-01</th>\n",
       "      <td>1180.59</td>\n",
       "      <td>1189.80</td>\n",
       "      <td>1169.91</td>\n",
       "      <td>1172.92</td>\n",
       "      <td>2168690000</td>\n",
       "      <td>0</td>\n",
       "      <td>0</td>\n",
       "    </tr>\n",
       "    <tr>\n",
       "      <th>2005-04-04</th>\n",
       "      <td>1172.79</td>\n",
       "      <td>1178.61</td>\n",
       "      <td>1167.72</td>\n",
       "      <td>1176.12</td>\n",
       "      <td>2079770000</td>\n",
       "      <td>0</td>\n",
       "      <td>0</td>\n",
       "    </tr>\n",
       "    <tr>\n",
       "      <th>2005-04-05</th>\n",
       "      <td>1176.12</td>\n",
       "      <td>1183.56</td>\n",
       "      <td>1176.12</td>\n",
       "      <td>1181.39</td>\n",
       "      <td>1870800000</td>\n",
       "      <td>0</td>\n",
       "      <td>0</td>\n",
       "    </tr>\n",
       "    <tr>\n",
       "      <th>2005-04-06</th>\n",
       "      <td>1181.39</td>\n",
       "      <td>1189.34</td>\n",
       "      <td>1181.39</td>\n",
       "      <td>1184.07</td>\n",
       "      <td>1797400000</td>\n",
       "      <td>0</td>\n",
       "      <td>0</td>\n",
       "    </tr>\n",
       "    <tr>\n",
       "      <th>2005-04-07</th>\n",
       "      <td>1184.07</td>\n",
       "      <td>1191.88</td>\n",
       "      <td>1183.81</td>\n",
       "      <td>1191.14</td>\n",
       "      <td>1900620000</td>\n",
       "      <td>0</td>\n",
       "      <td>0</td>\n",
       "    </tr>\n",
       "    <tr>\n",
       "      <th>...</th>\n",
       "      <td>...</td>\n",
       "      <td>...</td>\n",
       "      <td>...</td>\n",
       "      <td>...</td>\n",
       "      <td>...</td>\n",
       "      <td>...</td>\n",
       "      <td>...</td>\n",
       "    </tr>\n",
       "    <tr>\n",
       "      <th>2020-03-30</th>\n",
       "      <td>2558.98</td>\n",
       "      <td>2631.80</td>\n",
       "      <td>2545.28</td>\n",
       "      <td>2626.65</td>\n",
       "      <td>5746220000</td>\n",
       "      <td>0</td>\n",
       "      <td>0</td>\n",
       "    </tr>\n",
       "    <tr>\n",
       "      <th>2020-03-31</th>\n",
       "      <td>2614.69</td>\n",
       "      <td>2641.39</td>\n",
       "      <td>2571.15</td>\n",
       "      <td>2584.59</td>\n",
       "      <td>6568290000</td>\n",
       "      <td>0</td>\n",
       "      <td>0</td>\n",
       "    </tr>\n",
       "    <tr>\n",
       "      <th>2020-04-01</th>\n",
       "      <td>2498.08</td>\n",
       "      <td>2522.75</td>\n",
       "      <td>2447.49</td>\n",
       "      <td>2470.50</td>\n",
       "      <td>5947900000</td>\n",
       "      <td>0</td>\n",
       "      <td>0</td>\n",
       "    </tr>\n",
       "    <tr>\n",
       "      <th>2020-04-02</th>\n",
       "      <td>2458.54</td>\n",
       "      <td>2533.22</td>\n",
       "      <td>2455.79</td>\n",
       "      <td>2526.90</td>\n",
       "      <td>6454990000</td>\n",
       "      <td>0</td>\n",
       "      <td>0</td>\n",
       "    </tr>\n",
       "    <tr>\n",
       "      <th>2020-04-03</th>\n",
       "      <td>2514.92</td>\n",
       "      <td>2538.18</td>\n",
       "      <td>2459.96</td>\n",
       "      <td>2488.65</td>\n",
       "      <td>6087190000</td>\n",
       "      <td>0</td>\n",
       "      <td>0</td>\n",
       "    </tr>\n",
       "  </tbody>\n",
       "</table>\n",
       "<p>3779 rows × 7 columns</p>\n",
       "</div>"
      ],
      "text/plain": [
       "               Open     High      Low    Close      Volume  Dividends  \\\n",
       "Date                                                                    \n",
       "2005-04-01  1180.59  1189.80  1169.91  1172.92  2168690000          0   \n",
       "2005-04-04  1172.79  1178.61  1167.72  1176.12  2079770000          0   \n",
       "2005-04-05  1176.12  1183.56  1176.12  1181.39  1870800000          0   \n",
       "2005-04-06  1181.39  1189.34  1181.39  1184.07  1797400000          0   \n",
       "2005-04-07  1184.07  1191.88  1183.81  1191.14  1900620000          0   \n",
       "...             ...      ...      ...      ...         ...        ...   \n",
       "2020-03-30  2558.98  2631.80  2545.28  2626.65  5746220000          0   \n",
       "2020-03-31  2614.69  2641.39  2571.15  2584.59  6568290000          0   \n",
       "2020-04-01  2498.08  2522.75  2447.49  2470.50  5947900000          0   \n",
       "2020-04-02  2458.54  2533.22  2455.79  2526.90  6454990000          0   \n",
       "2020-04-03  2514.92  2538.18  2459.96  2488.65  6087190000          0   \n",
       "\n",
       "            Stock Splits  \n",
       "Date                      \n",
       "2005-04-01             0  \n",
       "2005-04-04             0  \n",
       "2005-04-05             0  \n",
       "2005-04-06             0  \n",
       "2005-04-07             0  \n",
       "...                  ...  \n",
       "2020-03-30             0  \n",
       "2020-03-31             0  \n",
       "2020-04-01             0  \n",
       "2020-04-02             0  \n",
       "2020-04-03             0  \n",
       "\n",
       "[3779 rows x 7 columns]"
      ]
     },
     "execution_count": 2,
     "metadata": {},
     "output_type": "execute_result"
    }
   ],
   "source": [
    "tickerSymbol = '^GSPC'\n",
    "tickerData = yf.Ticker(tickerSymbol)\n",
    "sp500_close = tickerData.history(period='1mo', start='2005-04-1', end='2020-04-05')\n",
    "sp500_close"
   ]
  },
  {
   "cell_type": "code",
   "execution_count": 4,
   "metadata": {},
   "outputs": [
    {
     "data": {
      "text/plain": [
       "Text(0, 0.5, 'precio')"
      ]
     },
     "execution_count": 4,
     "metadata": {},
     "output_type": "execute_result"
    },
    {
     "data": {
      "image/png": "[encoded data removed]",
      "text/plain": [
       "<Figure size 1080x576 with 1 Axes>"
      ]
     },
     "metadata": {
      "needs_background": "light"
     },
     "output_type": "display_data"
    }
   ],
   "source": [
    "plt.figure(figsize=(15,8))\n",
    "plt.title('Precio de cierre historico S&P 500',fontsize = 18)\n",
    "plt.plot(sp500_close['Close'])\n",
    "plt.xlabel('fecha',fontsize = 15)\n",
    "plt.ylabel('precio',fontsize = 15)"
   ]
  },
  {
   "cell_type": "markdown",
   "metadata": {},
   "source": [
    "Filtrar 'Close' y convertir a numpy"
   ]
  },
  {
   "cell_type": "code",
   "execution_count": 5,
   "metadata": {},
   "outputs": [],
   "source": [
    "sp500_close = sp500_close.filter(['Close'])"
   ]
  },
  {
   "cell_type": "code",
   "execution_count": 6,
   "metadata": {},
   "outputs": [
    {
     "data": {
      "text/plain": [
       "numpy.ndarray"
      ]
     },
     "execution_count": 6,
     "metadata": {},
     "output_type": "execute_result"
    }
   ],
   "source": [
    "sp500_np = sp500_close.values\n",
    "type(sp500_np)"
   ]
  },
  {
   "cell_type": "code",
   "execution_count": 7,
   "metadata": {},
   "outputs": [
    {
     "data": {
      "text/plain": [
       "3023"
      ]
     },
     "execution_count": 7,
     "metadata": {},
     "output_type": "execute_result"
    }
   ],
   "source": [
    "longitud_entrenamiento = int(len(sp500_np)*.8)\n",
    "longitud_entrenamiento"
   ]
  },
  {
   "cell_type": "markdown",
   "metadata": {},
   "source": [
    "Normalizado"
   ]
  },
  {
   "cell_type": "code",
   "execution_count": 8,
   "metadata": {},
   "outputs": [],
   "source": [
    "escalado = MinMaxScaler(feature_range=(0,1))\n",
    "sp500_norm = escalado.fit_transform(sp500_np)"
   ]
  },
  {
   "cell_type": "markdown",
   "metadata": {},
   "source": [
    "Crear el dataset de entrenamiento"
   ]
  },
  {
   "cell_type": "code",
   "execution_count": 9,
   "metadata": {},
   "outputs": [],
   "source": [
    "train_data = sp500_norm[0:longitud_entrenamiento,:]"
   ]
  },
  {
   "cell_type": "markdown",
   "metadata": {},
   "source": [
    "dividir en x_train y y_train (2 ejecuciones)"
   ]
  },
  {
   "cell_type": "code",
   "execution_count": 10,
   "metadata": {},
   "outputs": [],
   "source": [
    "x_train = []\n",
    "y_train = []\n",
    "\n",
    "for i in range(60,len(train_data)):\n",
    "    x_train.append(train_data[i-60:i,0]) \n",
    "    y_train.append(train_data[i,0])      "
   ]
  },
  {
   "cell_type": "markdown",
   "metadata": {},
   "source": [
    "convertir a numpy y agregar una dimension"
   ]
  },
  {
   "cell_type": "code",
   "execution_count": 11,
   "metadata": {},
   "outputs": [],
   "source": [
    "x_train,y_train = np.array(x_train),np.array(y_train)"
   ]
  },
  {
   "cell_type": "code",
   "execution_count": 12,
   "metadata": {},
   "outputs": [
    {
     "data": {
      "text/plain": [
       "(2963, 60, 1)"
      ]
     },
     "execution_count": 12,
     "metadata": {},
     "output_type": "execute_result"
    }
   ],
   "source": [
    "x_train = np.reshape(x_train,(x_train.shape[0],x_train.shape[1],1))\n",
    "x_train.shape"
   ]
  },
  {
   "cell_type": "markdown",
   "metadata": {},
   "source": [
    "#### Crear LSTM model"
   ]
  },
  {
   "cell_type": "code",
   "execution_count": 13,
   "metadata": {},
   "outputs": [],
   "source": [
    "from tensorflow.keras import Sequential\n",
    "from tensorflow.keras.layers import Dense, LSTM, Dropout"
   ]
  },
  {
   "cell_type": "code",
   "execution_count": 14,
   "metadata": {},
   "outputs": [],
   "source": [
    "model = Sequential()\n",
    "model.add(LSTM(50, return_sequences= True, input_shape = (x_train.shape[1],1)))\n",
    "model.add(LSTM(50, return_sequences= False,))\n",
    "model.add(Dense(25))\n",
    "model.add(Dense(1))"
   ]
  },
  {
   "cell_type": "markdown",
   "metadata": {},
   "source": [
    "optimizar"
   ]
  },
  {
   "cell_type": "code",
   "execution_count": 15,
   "metadata": {},
   "outputs": [],
   "source": [
    "model.compile(optimizer = 'adam', loss = 'mean_squared_error')"
   ]
  },
  {
   "cell_type": "markdown",
   "metadata": {},
   "source": [
    "entrenar modelo"
   ]
  },
  {
   "cell_type": "code",
   "execution_count": 16,
   "metadata": {},
   "outputs": [
    {
     "name": "stdout",
     "output_type": "stream",
     "text": [
      "Train on 2963 samples\n",
      "2963/2963 [==============================] - 76s 26ms/sample - loss: 4.5750e-04\n"
     ]
    },
    {
     "data": {
      "text/plain": [
       "<tensorflow.python.keras.callbacks.History at 0x1f93ca1c7c8>"
      ]
     },
     "execution_count": 16,
     "metadata": {},
     "output_type": "execute_result"
    }
   ],
   "source": [
    "model.fit(x_train,y_train,batch_size = 1, epochs = 1)"
   ]
  },
  {
   "cell_type": "markdown",
   "metadata": {},
   "source": [
    "Crear el dataset de prueba"
   ]
  },
  {
   "cell_type": "code",
   "execution_count": 17,
   "metadata": {},
   "outputs": [],
   "source": [
    "test_data = sp500_norm[longitud_entrenamiento - 60:,:]"
   ]
  },
  {
   "cell_type": "markdown",
   "metadata": {},
   "source": [
    "dividir en x_test y y_test"
   ]
  },
  {
   "cell_type": "code",
   "execution_count": 18,
   "metadata": {},
   "outputs": [],
   "source": [
    "x_test = []\n",
    "y_test = sp500_np[longitud_entrenamiento:,:]\n",
    "\n",
    "for i in range(60, len(test_data)):\n",
    "    x_test.append(test_data[i-60:i,0])"
   ]
  },
  {
   "cell_type": "code",
   "execution_count": 19,
   "metadata": {},
   "outputs": [],
   "source": [
    "x_test = np.array(x_test)"
   ]
  },
  {
   "cell_type": "markdown",
   "metadata": {},
   "source": [
    "Agregar una dimension"
   ]
  },
  {
   "cell_type": "code",
   "execution_count": 20,
   "metadata": {},
   "outputs": [
    {
     "data": {
      "text/plain": [
       "(756, 60, 1)"
      ]
     },
     "execution_count": 20,
     "metadata": {},
     "output_type": "execute_result"
    }
   ],
   "source": [
    "x_test = np.reshape(x_test,(x_test.shape[0],x_test.shape[1],1))\n",
    "x_test.shape"
   ]
  },
  {
   "cell_type": "markdown",
   "metadata": {},
   "source": [
    "Predicciones"
   ]
  },
  {
   "cell_type": "code",
   "execution_count": 21,
   "metadata": {},
   "outputs": [],
   "source": [
    "predic = model.predict(x_test)\n",
    "predic = escalado.inverse_transform(predic) #quita el normalizado (dejara info similar a y_test)"
   ]
  },
  {
   "cell_type": "markdown",
   "metadata": {},
   "source": [
    "confianza del modelo"
   ]
  },
  {
   "cell_type": "markdown",
   "metadata": {},
   "source": [
    "Raíz de la Desviación Cuadrática Media (RMSE)"
   ]
  },
  {
   "cell_type": "code",
   "execution_count": 22,
   "metadata": {},
   "outputs": [
    {
     "data": {
      "text/plain": [
       "100.57271701388889"
      ]
     },
     "execution_count": 22,
     "metadata": {},
     "output_type": "execute_result"
    }
   ],
   "source": [
    "rmse = np.sqrt( np.mean(predic - y_test)**2)\n",
    "rmse"
   ]
  },
  {
   "cell_type": "markdown",
   "metadata": {},
   "source": [
    "Graficas"
   ]
  },
  {
   "cell_type": "code",
   "execution_count": 23,
   "metadata": {},
   "outputs": [
    {
     "name": "stderr",
     "output_type": "stream",
     "text": [
      "C:\\Users\\af673\\Anaconda3\\envs\\tensorflow\\lib\\site-packages\\ipykernel_launcher.py:3: SettingWithCopyWarning: \n",
      "A value is trying to be set on a copy of a slice from a DataFrame.\n",
      "Try using .loc[row_indexer,col_indexer] = value instead\n",
      "\n",
      "See the caveats in the documentation: https://pandas.pydata.org/pandas-docs/stable/user_guide/indexing.html#returning-a-view-versus-a-copy\n",
      "  This is separate from the ipykernel package so we can avoid doing imports until\n"
     ]
    }
   ],
   "source": [
    "entrenamiento = sp500_close[:longitud_entrenamiento]\n",
    "validacion = sp500_close[longitud_entrenamiento:]\n",
    "validacion['Predicciones']= predic"
   ]
  },
  {
   "cell_type": "code",
   "execution_count": 24,
   "metadata": {
    "scrolled": false
   },
   "outputs": [
    {
     "data": {
      "image/png": "[encoded data removed]",
      "text/plain": [
       "<Figure size 1080x576 with 1 Axes>"
      ]
     },
     "metadata": {
      "needs_background": "light"
     },
     "output_type": "display_data"
    }
   ],
   "source": [
    "plt.figure(figsize=(15,8))\n",
    "plt.title('Modelo LSTM',fontsize = 18)\n",
    "plt.xlabel('fecha',fontsize = 15)\n",
    "plt.ylabel('precio',fontsize = 15)\n",
    "plt.plot(entrenamiento['Close'])\n",
    "plt.plot(validacion[['Close','Predicciones']])\n",
    "plt.legend(['entrenamiento','validacion','Predicciones'],loc = 'lower right')\n",
    "plt.show()"
   ]
  },
  {
   "cell_type": "code",
   "execution_count": 25,
   "metadata": {},
   "outputs": [
    {
     "data": {
      "text/html": [
       "<div>\n",
       "<style scoped>\n",
       "    .dataframe tbody tr th:only-of-type {\n",
       "        vertical-align: middle;\n",
       "    }\n",
       "\n",
       "    .dataframe tbody tr th {\n",
       "        vertical-align: top;\n",
       "    }\n",
       "\n",
       "    .dataframe thead th {\n",
       "        text-align: right;\n",
       "    }\n",
       "</style>\n",
       "<table border=\"1\" class=\"dataframe\">\n",
       "  <thead>\n",
       "    <tr style=\"text-align: right;\">\n",
       "      <th></th>\n",
       "      <th>Close</th>\n",
       "      <th>Predicciones</th>\n",
       "    </tr>\n",
       "    <tr>\n",
       "      <th>Date</th>\n",
       "      <th></th>\n",
       "      <th></th>\n",
       "    </tr>\n",
       "  </thead>\n",
       "  <tbody>\n",
       "    <tr>\n",
       "      <th>2017-04-04</th>\n",
       "      <td>2360.16</td>\n",
       "      <td>2298.364746</td>\n",
       "    </tr>\n",
       "    <tr>\n",
       "      <th>2017-04-05</th>\n",
       "      <td>2352.95</td>\n",
       "      <td>2299.252686</td>\n",
       "    </tr>\n",
       "    <tr>\n",
       "      <th>2017-04-06</th>\n",
       "      <td>2357.49</td>\n",
       "      <td>2298.928223</td>\n",
       "    </tr>\n",
       "    <tr>\n",
       "      <th>2017-04-07</th>\n",
       "      <td>2355.54</td>\n",
       "      <td>2298.656738</td>\n",
       "    </tr>\n",
       "    <tr>\n",
       "      <th>2017-04-10</th>\n",
       "      <td>2357.16</td>\n",
       "      <td>2298.156494</td>\n",
       "    </tr>\n",
       "    <tr>\n",
       "      <th>...</th>\n",
       "      <td>...</td>\n",
       "      <td>...</td>\n",
       "    </tr>\n",
       "    <tr>\n",
       "      <th>2020-03-30</th>\n",
       "      <td>2626.65</td>\n",
       "      <td>2403.441162</td>\n",
       "    </tr>\n",
       "    <tr>\n",
       "      <th>2020-03-31</th>\n",
       "      <td>2584.59</td>\n",
       "      <td>2436.622559</td>\n",
       "    </tr>\n",
       "    <tr>\n",
       "      <th>2020-04-01</th>\n",
       "      <td>2470.50</td>\n",
       "      <td>2462.497559</td>\n",
       "    </tr>\n",
       "    <tr>\n",
       "      <th>2020-04-02</th>\n",
       "      <td>2526.90</td>\n",
       "      <td>2467.456787</td>\n",
       "    </tr>\n",
       "    <tr>\n",
       "      <th>2020-04-03</th>\n",
       "      <td>2488.65</td>\n",
       "      <td>2469.306641</td>\n",
       "    </tr>\n",
       "  </tbody>\n",
       "</table>\n",
       "<p>756 rows × 2 columns</p>\n",
       "</div>"
      ],
      "text/plain": [
       "              Close  Predicciones\n",
       "Date                             \n",
       "2017-04-04  2360.16   2298.364746\n",
       "2017-04-05  2352.95   2299.252686\n",
       "2017-04-06  2357.49   2298.928223\n",
       "2017-04-07  2355.54   2298.656738\n",
       "2017-04-10  2357.16   2298.156494\n",
       "...             ...           ...\n",
       "2020-03-30  2626.65   2403.441162\n",
       "2020-03-31  2584.59   2436.622559\n",
       "2020-04-01  2470.50   2462.497559\n",
       "2020-04-02  2526.90   2467.456787\n",
       "2020-04-03  2488.65   2469.306641\n",
       "\n",
       "[756 rows x 2 columns]"
      ]
     },
     "execution_count": 25,
     "metadata": {},
     "output_type": "execute_result"
    }
   ],
   "source": [
    "validacion"
   ]
  },
  {
   "cell_type": "markdown",
   "metadata": {},
   "source": [
    "# Aplicacion en FAANG (MAYO)"
   ]
  },
  {
   "cell_type": "code",
   "execution_count": 113,
   "metadata": {},
   "outputs": [],
   "source": [
    "def acciones_forecast(simbolo,fecha):\n",
    "    x_prueba = []\n",
    "    tickerSymbol = simbolo\n",
    "    tickerData = yf.Ticker(tickerSymbol)\n",
    "    nombre = tickerData.history(period='1mo', start='2005-04-1', end= fecha)\n",
    "    nombre = nombre.filter(['Close'])\n",
    "    last_days = nombre[-60:].values\n",
    "    last_days_norm = escalado.fit_transform(last_days)\n",
    "    x_prueba.append(last_days_norm)\n",
    "    x_prueba = np.array(x_prueba)\n",
    "    x_prueba = np.reshape(x_prueba,(x_prueba.shape[0],x_prueba.shape[1],1))\n",
    "    norm_pred_price = model.predict(x_prueba)\n",
    "    pred_price = escalado.inverse_transform(norm_pred_price)\n",
    "    return pred_price[0][0]"
   ]
  },
  {
   "cell_type": "code",
   "execution_count": 114,
   "metadata": {},
   "outputs": [
    {
     "data": {
      "text/plain": [
       "275.46948"
      ]
     },
     "execution_count": 114,
     "metadata": {},
     "output_type": "execute_result"
    }
   ],
   "source": [
    "acciones_forecast('AAPL','2020-04-28')"
   ]
  },
  {
   "cell_type": "code",
   "execution_count": 88,
   "metadata": {},
   "outputs": [
    {
     "data": {
      "text/plain": [
       "DatetimeIndex(['2020-05-01', '2020-05-04', '2020-05-05', '2020-05-06',\n",
       "               '2020-05-07', '2020-05-08', '2020-05-11', '2020-05-12',\n",
       "               '2020-05-13', '2020-05-14'],\n",
       "              dtype='datetime64[ns]', freq='B')"
      ]
     },
     "execution_count": 88,
     "metadata": {},
     "output_type": "execute_result"
    }
   ],
   "source": [
    "Fechas = pd.date_range('2020-05-01', '2020-05-14', freq='B')\n",
    "Fechas"
   ]
  },
  {
   "cell_type": "code",
   "execution_count": 190,
   "metadata": {},
   "outputs": [],
   "source": [
    "def tabla_predicciones(simbolo,fecha_inicial,fecha_final):\n",
    "    fechas2 = []\n",
    "    predict = []\n",
    "    real = []\n",
    "    fechas = pd.date_range(fecha_inicial, fecha_final, freq='B')\n",
    "    for i in range(fechas.shape[0]):\n",
    "        fechas2.append(str(fechas[i])[0:10])\n",
    "    for i in range(len(fechas2)):\n",
    "        predict.append(acciones_forecast(simbolo,fechas2[i]))\n",
    "    tickerData = yf.Ticker(simbolo)\n",
    "    nombre = tickerData.history(period='1mo', start=fecha_inicial, end= fecha_final)['Close']\n",
    "    for i in range(len(nombre)):\n",
    "        real.append(nombre[i])\n",
    "    real.append('N/A')\n",
    "    dict = {'Fechas':fechas2,'Prediccciones':predict,'Precio real':real}\n",
    "    return pd.DataFrame(dict)\n",
    "        "
   ]
  },
  {
   "cell_type": "code",
   "execution_count": 191,
   "metadata": {},
   "outputs": [
    {
     "data": {
      "text/html": [
       "<div>\n",
       "<style scoped>\n",
       "    .dataframe tbody tr th:only-of-type {\n",
       "        vertical-align: middle;\n",
       "    }\n",
       "\n",
       "    .dataframe tbody tr th {\n",
       "        vertical-align: top;\n",
       "    }\n",
       "\n",
       "    .dataframe thead th {\n",
       "        text-align: right;\n",
       "    }\n",
       "</style>\n",
       "<table border=\"1\" class=\"dataframe\">\n",
       "  <thead>\n",
       "    <tr style=\"text-align: right;\">\n",
       "      <th></th>\n",
       "      <th>Fechas</th>\n",
       "      <th>Prediccciones</th>\n",
       "      <th>Precio real</th>\n",
       "    </tr>\n",
       "  </thead>\n",
       "  <tbody>\n",
       "    <tr>\n",
       "      <th>0</th>\n",
       "      <td>2020-05-01</td>\n",
       "      <td>279.407898</td>\n",
       "      <td>288.29</td>\n",
       "    </tr>\n",
       "    <tr>\n",
       "      <th>1</th>\n",
       "      <td>2020-05-04</td>\n",
       "      <td>281.247711</td>\n",
       "      <td>292.37</td>\n",
       "    </tr>\n",
       "    <tr>\n",
       "      <th>2</th>\n",
       "      <td>2020-05-05</td>\n",
       "      <td>283.186432</td>\n",
       "      <td>296.76</td>\n",
       "    </tr>\n",
       "    <tr>\n",
       "      <th>3</th>\n",
       "      <td>2020-05-06</td>\n",
       "      <td>285.434723</td>\n",
       "      <td>299.82</td>\n",
       "    </tr>\n",
       "    <tr>\n",
       "      <th>4</th>\n",
       "      <td>2020-05-07</td>\n",
       "      <td>287.888947</td>\n",
       "      <td>302.92</td>\n",
       "    </tr>\n",
       "    <tr>\n",
       "      <th>5</th>\n",
       "      <td>2020-05-08</td>\n",
       "      <td>NaN</td>\n",
       "      <td>310.13</td>\n",
       "    </tr>\n",
       "    <tr>\n",
       "      <th>6</th>\n",
       "      <td>2020-05-11</td>\n",
       "      <td>293.608093</td>\n",
       "      <td>315.01</td>\n",
       "    </tr>\n",
       "    <tr>\n",
       "      <th>7</th>\n",
       "      <td>2020-05-12</td>\n",
       "      <td>297.200836</td>\n",
       "      <td>311.41</td>\n",
       "    </tr>\n",
       "    <tr>\n",
       "      <th>8</th>\n",
       "      <td>2020-05-13</td>\n",
       "      <td>299.957306</td>\n",
       "      <td>307.65</td>\n",
       "    </tr>\n",
       "    <tr>\n",
       "      <th>9</th>\n",
       "      <td>2020-05-14</td>\n",
       "      <td>301.588776</td>\n",
       "      <td>N/A</td>\n",
       "    </tr>\n",
       "  </tbody>\n",
       "</table>\n",
       "</div>"
      ],
      "text/plain": [
       "       Fechas  Prediccciones Precio real\n",
       "0  2020-05-01     279.407898      288.29\n",
       "1  2020-05-04     281.247711      292.37\n",
       "2  2020-05-05     283.186432      296.76\n",
       "3  2020-05-06     285.434723      299.82\n",
       "4  2020-05-07     287.888947      302.92\n",
       "5  2020-05-08            NaN      310.13\n",
       "6  2020-05-11     293.608093      315.01\n",
       "7  2020-05-12     297.200836      311.41\n",
       "8  2020-05-13     299.957306      307.65\n",
       "9  2020-05-14     301.588776         N/A"
      ]
     },
     "execution_count": 191,
     "metadata": {},
     "output_type": "execute_result"
    }
   ],
   "source": [
    "tabla_predicciones('AAPL','2020-05-01', '2020-05-14')"
   ]
  },
  {
   "cell_type": "code",
   "execution_count": 192,
   "metadata": {},
   "outputs": [
    {
     "data": {
      "text/html": [
       "<div>\n",
       "<style scoped>\n",
       "    .dataframe tbody tr th:only-of-type {\n",
       "        vertical-align: middle;\n",
       "    }\n",
       "\n",
       "    .dataframe tbody tr th {\n",
       "        vertical-align: top;\n",
       "    }\n",
       "\n",
       "    .dataframe thead th {\n",
       "        text-align: right;\n",
       "    }\n",
       "</style>\n",
       "<table border=\"1\" class=\"dataframe\">\n",
       "  <thead>\n",
       "    <tr style=\"text-align: right;\">\n",
       "      <th></th>\n",
       "      <th>Fechas</th>\n",
       "      <th>Prediccciones</th>\n",
       "      <th>Precio real</th>\n",
       "    </tr>\n",
       "  </thead>\n",
       "  <tbody>\n",
       "    <tr>\n",
       "      <th>0</th>\n",
       "      <td>2020-05-01</td>\n",
       "      <td>410.817444</td>\n",
       "      <td>415.27</td>\n",
       "    </tr>\n",
       "    <tr>\n",
       "      <th>1</th>\n",
       "      <td>2020-05-04</td>\n",
       "      <td>409.903625</td>\n",
       "      <td>428.15</td>\n",
       "    </tr>\n",
       "    <tr>\n",
       "      <th>2</th>\n",
       "      <td>2020-05-05</td>\n",
       "      <td>410.901154</td>\n",
       "      <td>424.68</td>\n",
       "    </tr>\n",
       "    <tr>\n",
       "      <th>3</th>\n",
       "      <td>2020-05-06</td>\n",
       "      <td>412.122986</td>\n",
       "      <td>434.26</td>\n",
       "    </tr>\n",
       "    <tr>\n",
       "      <th>4</th>\n",
       "      <td>2020-05-07</td>\n",
       "      <td>414.551880</td>\n",
       "      <td>436.53</td>\n",
       "    </tr>\n",
       "    <tr>\n",
       "      <th>5</th>\n",
       "      <td>2020-05-08</td>\n",
       "      <td>417.411102</td>\n",
       "      <td>435.55</td>\n",
       "    </tr>\n",
       "    <tr>\n",
       "      <th>6</th>\n",
       "      <td>2020-05-11</td>\n",
       "      <td>419.954224</td>\n",
       "      <td>440.52</td>\n",
       "    </tr>\n",
       "    <tr>\n",
       "      <th>7</th>\n",
       "      <td>2020-05-12</td>\n",
       "      <td>422.735107</td>\n",
       "      <td>431.82</td>\n",
       "    </tr>\n",
       "    <tr>\n",
       "      <th>8</th>\n",
       "      <td>2020-05-13</td>\n",
       "      <td>423.985443</td>\n",
       "      <td>438.27</td>\n",
       "    </tr>\n",
       "    <tr>\n",
       "      <th>9</th>\n",
       "      <td>2020-05-14</td>\n",
       "      <td>425.301697</td>\n",
       "      <td>N/A</td>\n",
       "    </tr>\n",
       "  </tbody>\n",
       "</table>\n",
       "</div>"
      ],
      "text/plain": [
       "       Fechas  Prediccciones Precio real\n",
       "0  2020-05-01     410.817444      415.27\n",
       "1  2020-05-04     409.903625      428.15\n",
       "2  2020-05-05     410.901154      424.68\n",
       "3  2020-05-06     412.122986      434.26\n",
       "4  2020-05-07     414.551880      436.53\n",
       "5  2020-05-08     417.411102      435.55\n",
       "6  2020-05-11     419.954224      440.52\n",
       "7  2020-05-12     422.735107      431.82\n",
       "8  2020-05-13     423.985443      438.27\n",
       "9  2020-05-14     425.301697         N/A"
      ]
     },
     "execution_count": 192,
     "metadata": {},
     "output_type": "execute_result"
    }
   ],
   "source": [
    "tabla_predicciones('NFLX','2020-05-01', '2020-05-14')"
   ]
  }
 ],
 "metadata": {
  "kernelspec": {
   "display_name": "tensorflow",
   "language": "python",
   "name": "tensorflow"
  },
  "language_info": {
   "codemirror_mode": {
    "name": "ipython",
    "version": 3
   },
   "file_extension": ".py",
   "mimetype": "text/x-python",
   "name": "python",
   "nbconvert_exporter": "python",
   "pygments_lexer": "ipython3",
   "version": "3.7.7"
  }
 },
 "nbformat": 4,
 "nbformat_minor": 4
}
