{
 "cells": [
  {
   "cell_type": "markdown",
   "metadata": {},
   "source": [
    "# Productos Financieros"
   ]
  },
  {
   "cell_type": "markdown",
   "metadata": {},
   "source": [
    "Alan Cardenas  27/abril/2020"
   ]
  },
  {
   "cell_type": "markdown",
   "metadata": {},
   "source": [
    "Este proyecto esta dedicado a realizar una comparacion de los rendimientos en el ultimo año de fondos de inversíon, acciones, indices y algunos rendimientos de proyectos en la industria fintech.\n",
    "\n",
    "Tambien se incluira un modelo predictivo para analizar el comportamiento del S&P 500."
   ]
  },
  {
   "cell_type": "markdown",
   "metadata": {},
   "source": [
    "![tittle](Images/risk2.jpg)"
   ]
  },
  {
   "cell_type": "markdown",
   "metadata": {},
   "source": [
    "### **Paqueterias y herramientas**"
   ]
  },
  {
   "cell_type": "code",
   "execution_count": 2,
   "metadata": {},
   "outputs": [],
   "source": [
    "import numpy as np\n",
    "import pandas as pd\n",
    "from matplotlib import pyplot as plt\n",
    "import yfinance as yf"
   ]
  },
  {
   "cell_type": "markdown",
   "metadata": {},
   "source": [
    "**Databases**"
   ]
  },
  {
   "cell_type": "markdown",
   "metadata": {},
   "source": [
    "Indices"
   ]
  },
  {
   "cell_type": "code",
   "execution_count": 3,
   "metadata": {},
   "outputs": [],
   "source": [
    "ipc_mes = pd.read_csv('IPC_mensual.csv')\n",
    "ipc_dia = pd.read_csv('IPC_diario.csv')\n",
    "sp500_mes = pd.read_csv('S&P500_mensual.csv')\n",
    "sp500_dia = pd.read_csv('S&P500_diario.csv')"
   ]
  },
  {
   "cell_type": "markdown",
   "metadata": {},
   "source": [
    "Fondos de inversion y fintech"
   ]
  },
  {
   "cell_type": "code",
   "execution_count": 4,
   "metadata": {},
   "outputs": [],
   "source": [
    "bbva = pd.read_csv('bbva_mensual.csv')\n",
    "hsbc = pd.read_csv('hsbc_mensual.csv')\n",
    "maya = pd.read_csv('maya_mensual.csv')\n",
    "rvtec = pd.read_csv('rvtec_mensual.csv')\n",
    "latin9 = pd.read_csv('latin9_mensual.csv')\n",
    "fondos_rend = pd.read_csv('fondos_rend.csv')\n",
    "fintech_rend= pd.read_csv('fintech_rend.csv')"
   ]
  },
  {
   "cell_type": "markdown",
   "metadata": {},
   "source": [
    "FAANG"
   ]
  },
  {
   "cell_type": "code",
   "execution_count": 5,
   "metadata": {},
   "outputs": [],
   "source": [
    "faang_rend= pd.read_csv('faang_rend.csv')"
   ]
  },
  {
   "cell_type": "markdown",
   "metadata": {},
   "source": [
    "## Comparativos"
   ]
  },
  {
   "cell_type": "code",
   "execution_count": 6,
   "metadata": {},
   "outputs": [],
   "source": [
    "def grafobarra(axs, caracteristica_x, caracteristica_y):\n",
    "    columnas = fondos_rend.columns\n",
    "    print(\"Plotteando: \"+columnas[caracteristica_x]+\"(X) vs \"+columnas[caracteristica_y]+\"(Y)\")\n",
    "\n",
    "    graff = axs.bar(fondos_rend.iloc[:,caracteristica_x],fondos_rend.iloc[:,caracteristica_y],label = 'rendimientos',\n",
    "            color=['orange', 'red', 'green', 'pink', 'blue','black'])\n",
    "    \n",
    "    bar_label = fondos_rend.iloc[:,caracteristica_y]\n",
    "    for idx,rect in enumerate(graff):\n",
    "        height = rect.get_height()\n",
    "        axs.text(rect.get_x() + rect.get_width()/2., 1.05*height,\n",
    "                bar_label[idx],\n",
    "                ha='center', va='bottom', rotation=0,color='purple')\n",
    "    \n",
    "    \n",
    "    axs.set_xlabel(columnas[caracteristica_x])\n",
    "    axs.set_ylabel(columnas[caracteristica_y])"
   ]
  },
  {
   "cell_type": "markdown",
   "metadata": {},
   "source": [
    "### IPC vs Fondos de inversion."
   ]
  },
  {
   "cell_type": "markdown",
   "metadata": {},
   "source": [
    "![tittle](Images/fondos.jfif)"
   ]
  },
  {
   "cell_type": "code",
   "execution_count": 7,
   "metadata": {
    "scrolled": false
   },
   "outputs": [
    {
     "name": "stdout",
     "output_type": "stream",
     "text": [
      "Plotteando: Fondos(X) vs rend_feb(Y)\n",
      "Plotteando: Fondos(X) vs rend_abril(Y)\n"
     ]
    },
    {
     "data": {
      "image/png": "[encoded data removed]",
      "text/plain": [
       "<Figure size 720x360 with 2 Axes>"
      ]
     },
     "metadata": {
      "needs_background": "light"
     },
     "output_type": "display_data"
    }
   ],
   "source": [
    "fig, axs = plt.subplots(1, 2,figsize=(10,5))\n",
    "\n",
    "caracteristica_x = 0\n",
    "caracteristica_y = 1\n",
    "grafobarra(axs[0],caracteristica_x, caracteristica_y)\n",
    "\n",
    "caracteristica_x = 0\n",
    "caracteristica_y = 2\n",
    "grafobarra(axs[1],caracteristica_x, caracteristica_y)"
   ]
  },
  {
   "cell_type": "markdown",
   "metadata": {},
   "source": [
    "Funcion para calcular variacion en rendimientos"
   ]
  },
  {
   "cell_type": "code",
   "execution_count": 8,
   "metadata": {},
   "outputs": [],
   "source": [
    "def porcentajes(array):\n",
    "    cambio = [0]\n",
    "    for num in range(len(array) - 1):\n",
    "        cambio.append(round((array[num + 1] / array[num])-1,4))\n",
    "    cambio[0] = np.nanmean(cambio)\n",
    "    return cambio"
   ]
  },
  {
   "cell_type": "markdown",
   "metadata": {},
   "source": [
    "Agregar variacion a todos los DF."
   ]
  },
  {
   "cell_type": "code",
   "execution_count": 9,
   "metadata": {},
   "outputs": [],
   "source": [
    "bbva['var%'] = porcentajes(bbva['Cierre'])\n",
    "hsbc['var%'] = porcentajes(hsbc['Cierre'])\n",
    "maya['var%'] = porcentajes(maya['Cierre'])\n",
    "rvtec['var%'] = porcentajes(rvtec['Cierre'])\n",
    "latin9['var%'] = porcentajes(latin9['Cierre'])"
   ]
  },
  {
   "cell_type": "markdown",
   "metadata": {},
   "source": [
    "**Estadisticos basicos**"
   ]
  },
  {
   "cell_type": "code",
   "execution_count": 10,
   "metadata": {
    "scrolled": true
   },
   "outputs": [],
   "source": [
    "def datos_estadisticos(array):\n",
    "    result1= np.where(array == min(array.loc[:,'var%']))\n",
    "    result2= np.where(array == max(array.loc[:,'var%']))\n",
    "    print(\"rendimiento minimo: \"+ str(min(array.loc[:,'var%'])*100)+' %'+' fecha:'+ array.iloc[result1[0][0],0])\n",
    "    print(\"rendimiento maximo: \"+ str(max(array.loc[:,'var%'])*100)+' %'+' fecha:'+ array.iloc[result2[0][0],0])\n",
    "    print(\"rendimiento promedio: \"+ str(np.mean(array.loc[:,'var%'])*100)+' %')  \n",
    "        "
   ]
  },
  {
   "cell_type": "code",
   "execution_count": 11,
   "metadata": {},
   "outputs": [
    {
     "name": "stdout",
     "output_type": "stream",
     "text": [
      "rendimiento minimo: -22.78 % fecha:01/03/2020\n",
      "rendimiento maximo: 3.6999999999999997 % fecha:01/08/2019\n",
      "rendimiento promedio: -2.0646999999999998 %\n"
     ]
    }
   ],
   "source": [
    "datos_estadisticos(bbva)"
   ]
  },
  {
   "cell_type": "code",
   "execution_count": 12,
   "metadata": {},
   "outputs": [
    {
     "name": "stdout",
     "output_type": "stream",
     "text": [
      "rendimiento minimo: -19.28 % fecha:01/03/2020\n",
      "rendimiento maximo: 3.29 % fecha:01/09/2019\n",
      "rendimiento promedio: -1.4508999999999999 %\n"
     ]
    }
   ],
   "source": [
    "datos_estadisticos(hsbc)"
   ]
  },
  {
   "cell_type": "code",
   "execution_count": 13,
   "metadata": {},
   "outputs": [
    {
     "name": "stdout",
     "output_type": "stream",
     "text": [
      "rendimiento minimo: -19.42 % fecha:01/03/2020\n",
      "rendimiento maximo: 3.08 % fecha:01/08/2019\n",
      "rendimiento promedio: -1.2859 %\n"
     ]
    }
   ],
   "source": [
    "datos_estadisticos(maya)"
   ]
  },
  {
   "cell_type": "code",
   "execution_count": 14,
   "metadata": {},
   "outputs": [
    {
     "name": "stdout",
     "output_type": "stream",
     "text": [
      "rendimiento minimo: -3.5999999999999996 % fecha:01/02/2020\n",
      "rendimiento maximo: 19.759999999999998 % fecha:01/04/2020\n",
      "rendimiento promedio: 4.0007 %\n"
     ]
    }
   ],
   "source": [
    "datos_estadisticos(rvtec)"
   ]
  },
  {
   "cell_type": "code",
   "execution_count": 15,
   "metadata": {},
   "outputs": [
    {
     "name": "stdout",
     "output_type": "stream",
     "text": [
      "rendimiento minimo: -3.8 % fecha:01/02/2020\n",
      "rendimiento maximo: 10.51 % fecha:01/04/2020\n",
      "rendimiento promedio: 1.4113 %\n"
     ]
    }
   ],
   "source": [
    "datos_estadisticos(latin9)"
   ]
  },
  {
   "cell_type": "markdown",
   "metadata": {},
   "source": [
    "### IPC vs Fintechs"
   ]
  },
  {
   "cell_type": "markdown",
   "metadata": {},
   "source": [
    "![tittle](Images/fintech.jpg)"
   ]
  },
  {
   "cell_type": "code",
   "execution_count": 16,
   "metadata": {},
   "outputs": [
    {
     "name": "stdout",
     "output_type": "stream",
     "text": [
      "                  Rendimientos a febrero\n"
     ]
    },
    {
     "data": {
      "text/plain": [
       "Text(0, 0.5, 'rendimientos')"
      ]
     },
     "execution_count": 16,
     "metadata": {},
     "output_type": "execute_result"
    },
    {
     "data": {
      "image/png": "[encoded data removed]",
      "text/plain": [
       "<Figure size 432x288 with 1 Axes>"
      ]
     },
     "metadata": {
      "needs_background": "light"
     },
     "output_type": "display_data"
    }
   ],
   "source": [
    "figsize=(10,5)\n",
    "print(\"                  Rendimientos a febrero\")\n",
    "\n",
    "\n",
    "plt.bar(fintech_rend.iloc[:,0],fintech_rend.iloc[:,1],label = 'rendimientos a enero',color=['orange', 'red', 'yellow','black'])\n",
    "plt.text(x = -0.1,y= 0.14, s= '16%')\n",
    "plt.text(x = 0.9,y= 0.16, s= '18%')\n",
    "plt.text(x = 1.9,y= 0.18, s= '20%')\n",
    "plt.text(x = 2.9,y= 0.01, s= '-6%')\n",
    "plt.xlabel('Fintechs')\n",
    "plt.ylabel('rendimientos')"
   ]
  },
  {
   "cell_type": "markdown",
   "metadata": {},
   "source": [
    "### Indices vs acciones(FAANG)"
   ]
  },
  {
   "cell_type": "markdown",
   "metadata": {},
   "source": [
    "![tittle](Images/stock.jpg)"
   ]
  },
  {
   "cell_type": "code",
   "execution_count": 17,
   "metadata": {},
   "outputs": [],
   "source": [
    "def autolabel1(rects):\n",
    "    for idx,rect in enumerate(rects):\n",
    "        height = rect.get_height()\n",
    "        ax1.text(rect.get_x() + rect.get_width()/2., 1.05*height,\n",
    "                bar_label[idx],\n",
    "                ha='center', va='bottom', rotation=0,color='red')\n",
    "def autolabel2(rects):\n",
    "    for idx,rect in enumerate(rects):\n",
    "        height = rect.get_height()\n",
    "        ax2.text(rect.get_x() + rect.get_width()/2., 1.05*height,\n",
    "                bar_label[idx],\n",
    "                ha='center', va='bottom', rotation=0,color='red')"
   ]
  },
  {
   "cell_type": "code",
   "execution_count": 18,
   "metadata": {
    "scrolled": false
   },
   "outputs": [
    {
     "data": {
      "image/png": "[encoded data removed]",
      "text/plain": [
       "<Figure size 864x720 with 2 Axes>"
      ]
     },
     "metadata": {
      "needs_background": "light"
     },
     "output_type": "display_data"
    }
   ],
   "source": [
    "fig, (ax1, ax2) = plt.subplots(1, 2,figsize=(12,10))\n",
    "\n",
    "graf1 = ax1.bar(faang_rend.iloc[:,0],faang_rend.iloc[:,1],label = 'rendimientos a febrero',\n",
    "                color=['orange', 'red', 'green', 'pink', 'blue','black','gray'])\n",
    "ax1.set_title('Febrero')\n",
    "ax1.set_ylabel('rendimientos')\n",
    "\n",
    "\n",
    "graf2 = ax2.bar(faang_rend.iloc[:,0],faang_rend.iloc[:,2],label = 'rendimientos a abril',\n",
    "                color=['orange', 'red', 'green', 'pink', 'blue','black','gray'])\n",
    "ax2.set_title('Abril')\n",
    "ax2.set_ylabel('rendimientos')\n",
    "\n",
    "bar_label=['9.6%','64.24%','15.47%','18.95%','8.7%','-6.06%','9.25%']\n",
    "autolabel1(graf1)\n",
    "bar_label=['33.78%','48.89%','13.15%','8.24%','19.19%','-19.03%','1.88%']\n",
    "autolabel2(graf2)"
   ]
  },
  {
   "cell_type": "markdown",
   "metadata": {},
   "source": [
    "#### Evolucíon de los rendimientos mensuales"
   ]
  },
  {
   "cell_type": "code",
   "execution_count": 19,
   "metadata": {},
   "outputs": [],
   "source": [
    "def bolsainfo(stock_simbol):\n",
    "    tickerData = yf.Ticker(stock_simbol)\n",
    "    dfname = tickerData.history(period='1mo',interval='1mo', start='2019-04-1', end='2020-04-01')\n",
    "    dfname = dfname.filter(['Close'])\n",
    "    dfname = dfname.reset_index()\n",
    "    dfname['var%'] = porcentajes(dfname['Close'])\n",
    "    return dfname"
   ]
  },
  {
   "cell_type": "code",
   "execution_count": 20,
   "metadata": {},
   "outputs": [
    {
     "data": {
      "text/html": [
       "<div>\n",
       "<style scoped>\n",
       "    .dataframe tbody tr th:only-of-type {\n",
       "        vertical-align: middle;\n",
       "    }\n",
       "\n",
       "    .dataframe tbody tr th {\n",
       "        vertical-align: top;\n",
       "    }\n",
       "\n",
       "    .dataframe thead th {\n",
       "        text-align: right;\n",
       "    }\n",
       "</style>\n",
       "<table border=\"1\" class=\"dataframe\">\n",
       "  <thead>\n",
       "    <tr style=\"text-align: right;\">\n",
       "      <th></th>\n",
       "      <th>Date</th>\n",
       "      <th>Close</th>\n",
       "      <th>var%</th>\n",
       "    </tr>\n",
       "  </thead>\n",
       "  <tbody>\n",
       "    <tr>\n",
       "      <th>0</th>\n",
       "      <td>2019-04-01</td>\n",
       "      <td>1926.52</td>\n",
       "      <td>0.018677</td>\n",
       "    </tr>\n",
       "    <tr>\n",
       "      <th>1</th>\n",
       "      <td>2019-05-01</td>\n",
       "      <td>1775.07</td>\n",
       "      <td>-0.078600</td>\n",
       "    </tr>\n",
       "    <tr>\n",
       "      <th>2</th>\n",
       "      <td>2019-06-01</td>\n",
       "      <td>1893.63</td>\n",
       "      <td>0.066800</td>\n",
       "    </tr>\n",
       "    <tr>\n",
       "      <th>3</th>\n",
       "      <td>2019-07-01</td>\n",
       "      <td>1866.78</td>\n",
       "      <td>-0.014200</td>\n",
       "    </tr>\n",
       "    <tr>\n",
       "      <th>4</th>\n",
       "      <td>2019-08-01</td>\n",
       "      <td>1776.29</td>\n",
       "      <td>-0.048500</td>\n",
       "    </tr>\n",
       "    <tr>\n",
       "      <th>5</th>\n",
       "      <td>2019-09-01</td>\n",
       "      <td>1735.91</td>\n",
       "      <td>-0.022700</td>\n",
       "    </tr>\n",
       "    <tr>\n",
       "      <th>6</th>\n",
       "      <td>2019-10-01</td>\n",
       "      <td>1776.66</td>\n",
       "      <td>0.023500</td>\n",
       "    </tr>\n",
       "    <tr>\n",
       "      <th>7</th>\n",
       "      <td>2019-11-01</td>\n",
       "      <td>1800.80</td>\n",
       "      <td>0.013600</td>\n",
       "    </tr>\n",
       "    <tr>\n",
       "      <th>8</th>\n",
       "      <td>2019-12-01</td>\n",
       "      <td>1847.84</td>\n",
       "      <td>0.026100</td>\n",
       "    </tr>\n",
       "    <tr>\n",
       "      <th>9</th>\n",
       "      <td>2020-01-01</td>\n",
       "      <td>2008.72</td>\n",
       "      <td>0.087100</td>\n",
       "    </tr>\n",
       "    <tr>\n",
       "      <th>10</th>\n",
       "      <td>2020-02-01</td>\n",
       "      <td>1883.75</td>\n",
       "      <td>-0.062200</td>\n",
       "    </tr>\n",
       "    <tr>\n",
       "      <th>11</th>\n",
       "      <td>2020-03-01</td>\n",
       "      <td>1949.72</td>\n",
       "      <td>0.035000</td>\n",
       "    </tr>\n",
       "    <tr>\n",
       "      <th>12</th>\n",
       "      <td>2020-04-01</td>\n",
       "      <td>2372.71</td>\n",
       "      <td>0.216900</td>\n",
       "    </tr>\n",
       "  </tbody>\n",
       "</table>\n",
       "</div>"
      ],
      "text/plain": [
       "         Date    Close      var%\n",
       "0  2019-04-01  1926.52  0.018677\n",
       "1  2019-05-01  1775.07 -0.078600\n",
       "2  2019-06-01  1893.63  0.066800\n",
       "3  2019-07-01  1866.78 -0.014200\n",
       "4  2019-08-01  1776.29 -0.048500\n",
       "5  2019-09-01  1735.91 -0.022700\n",
       "6  2019-10-01  1776.66  0.023500\n",
       "7  2019-11-01  1800.80  0.013600\n",
       "8  2019-12-01  1847.84  0.026100\n",
       "9  2020-01-01  2008.72  0.087100\n",
       "10 2020-02-01  1883.75 -0.062200\n",
       "11 2020-03-01  1949.72  0.035000\n",
       "12 2020-04-01  2372.71  0.216900"
      ]
     },
     "execution_count": 20,
     "metadata": {},
     "output_type": "execute_result"
    }
   ],
   "source": [
    "amazon = bolsainfo('AMZN')\n",
    "apple = bolsainfo('AAPL')\n",
    "facebook = bolsainfo('FB')\n",
    "google = bolsainfo('GOOG')\n",
    "netflix = bolsainfo('NFLX')\n",
    "sp500 = bolsainfo('^GSPC')\n",
    "ipc = bolsainfo('^MXX')\n",
    "\n",
    "amazon"
   ]
  },
  {
   "cell_type": "code",
   "execution_count": 21,
   "metadata": {},
   "outputs": [],
   "source": [
    "apple = apple.drop([2, 6,10,14])\n",
    "apple = apple.reindex()"
   ]
  },
  {
   "cell_type": "markdown",
   "metadata": {},
   "source": [
    "#### Estadisticos"
   ]
  },
  {
   "cell_type": "code",
   "execution_count": 22,
   "metadata": {},
   "outputs": [],
   "source": [
    "def datos_estadisticos2(array):\n",
    "    result1= np.where(array == min(array.loc[:,'var%']))\n",
    "    result2= np.where(array == max(array.loc[:,'var%']))\n",
    "    result3= np.where(array == min(array.loc[:,'Close']))\n",
    "    result4= np.where(array == max(array.loc[:,'Close']))\n",
    "    print(\"rendimiento minimo:   \"+ str(min(array.loc[:,'var%'])*100)+' %'+' fecha:'+ str(array.iloc[result1[0][0],0]))\n",
    "    print(\"rendimiento maximo:   \"+ str(max(array.loc[:,'var%'])*100)+' %'+' fecha:'+ str(array.iloc[result2[0][0],0]))\n",
    "    print(\"rendimiento promedio: \"+ str(np.mean(array.loc[:,'var%'])*100)+' %')\n",
    "    print(\"precio minimo:   \"+ str(min(array.loc[:,'Close']))+' fecha:'+ str(array.iloc[result3[0][0],0]))\n",
    "    print(\"precio maximo:   \"+ str(max(array.loc[:,'Close']))+' fecha:'+ str(array.iloc[result4[0][0],0]))\n",
    "    print(\"precio promedio: \"+ str(np.mean(array.loc[:,'Close'])))"
   ]
  },
  {
   "cell_type": "code",
   "execution_count": 23,
   "metadata": {},
   "outputs": [
    {
     "name": "stdout",
     "output_type": "stream",
     "text": [
      "rendimiento minimo:   -7.86 % fecha:2019-05-01 00:00:00\n",
      "rendimiento maximo:   21.69 % fecha:2020-04-01 00:00:00\n",
      "rendimiento promedio: 2.011360946745562 %\n",
      "precio minimo:   1735.91 fecha:2019-09-01 00:00:00\n",
      "precio maximo:   2372.71 fecha:2020-04-01 00:00:00\n",
      "precio promedio: 1893.4153846153847\n"
     ]
    }
   ],
   "source": [
    "datos_estadisticos2(amazon)"
   ]
  },
  {
   "cell_type": "markdown",
   "metadata": {},
   "source": [
    "#### Graficos"
   ]
  },
  {
   "cell_type": "code",
   "execution_count": 24,
   "metadata": {},
   "outputs": [],
   "source": [
    "def grafosimple(axnum,empresa,titulo,columna):\n",
    "    \"\"\"ex:(ax1,apple,'Apple',2) columna:1=precio,2=rendimiento\"\"\"\n",
    "    axnum.plot(empresa.iloc[:,0],empresa.iloc[:,columna],color = 'r')\n",
    "    axnum.set_xlabel('fecha')\n",
    "    axnum.set_ylabel('Rendimiento' if columna == 2 else 'Precio')\n",
    "    axnum.set_title(titulo)"
   ]
  },
  {
   "cell_type": "code",
   "execution_count": 25,
   "metadata": {},
   "outputs": [
    {
     "data": {
      "image/png": "[encoded data removed]",
      "text/plain": [
       "<Figure size 1440x1440 with 7 Axes>"
      ]
     },
     "metadata": {
      "needs_background": "light"
     },
     "output_type": "display_data"
    }
   ],
   "source": [
    "fig = plt.figure(figsize = (20,20))\n",
    "ax1 = fig.add_subplot(3, 3, 1)\n",
    "ax2 = fig.add_subplot(3, 3, 2)\n",
    "ax3 = fig.add_subplot(3, 3, 3)\n",
    "ax4 = fig.add_subplot(3, 3, 4)\n",
    "ax5 = fig.add_subplot(3, 3, 5)\n",
    "ax6 = fig.add_subplot(3, 3, 6)\n",
    "ax7 = fig.add_subplot(3, 3, 7)\n",
    "\n",
    "grafosimple(ax1,amazon,'Amazon',2)\n",
    "grafosimple(ax2,apple,'Apple',1)\n",
    "grafosimple(ax3,google,'Google',2)\n",
    "grafosimple(ax4,facebook,'Facebook',2)\n",
    "grafosimple(ax5,netflix,'Netflix',2)\n",
    "grafosimple(ax6,sp500,'S&P 500',2)\n",
    "grafosimple(ax7,ipc,'IPC',2)"
   ]
  },
  {
   "cell_type": "markdown",
   "metadata": {},
   "source": [
    "## Forecast"
   ]
  },
  {
   "cell_type": "markdown",
   "metadata": {},
   "source": [
    "![tittle](Images/forecast.jpg)"
   ]
  },
  {
   "cell_type": "code",
   "execution_count": 26,
   "metadata": {},
   "outputs": [],
   "source": [
    "from sklearn.model_selection import train_test_split\n",
    "from sklearn.preprocessing import MinMaxScaler\n",
    "from sklearn.linear_model import LinearRegression\n",
    "from sklearn.svm import SVR"
   ]
  },
  {
   "cell_type": "code",
   "execution_count": 27,
   "metadata": {},
   "outputs": [
    {
     "data": {
      "text/html": [
       "<div>\n",
       "<style scoped>\n",
       "    .dataframe tbody tr th:only-of-type {\n",
       "        vertical-align: middle;\n",
       "    }\n",
       "\n",
       "    .dataframe tbody tr th {\n",
       "        vertical-align: top;\n",
       "    }\n",
       "\n",
       "    .dataframe thead th {\n",
       "        text-align: right;\n",
       "    }\n",
       "</style>\n",
       "<table border=\"1\" class=\"dataframe\">\n",
       "  <thead>\n",
       "    <tr style=\"text-align: right;\">\n",
       "      <th></th>\n",
       "      <th>Close</th>\n",
       "    </tr>\n",
       "  </thead>\n",
       "  <tbody>\n",
       "    <tr>\n",
       "      <th>0</th>\n",
       "      <td>81.52</td>\n",
       "    </tr>\n",
       "    <tr>\n",
       "      <th>1</th>\n",
       "      <td>76.55</td>\n",
       "    </tr>\n",
       "    <tr>\n",
       "      <th>2</th>\n",
       "      <td>72.72</td>\n",
       "    </tr>\n",
       "    <tr>\n",
       "      <th>3</th>\n",
       "      <td>78.05</td>\n",
       "    </tr>\n",
       "    <tr>\n",
       "      <th>4</th>\n",
       "      <td>81.52</td>\n",
       "    </tr>\n",
       "    <tr>\n",
       "      <th>...</th>\n",
       "      <td>...</td>\n",
       "    </tr>\n",
       "    <tr>\n",
       "      <th>596</th>\n",
       "      <td>3230.78</td>\n",
       "    </tr>\n",
       "    <tr>\n",
       "      <th>597</th>\n",
       "      <td>3225.52</td>\n",
       "    </tr>\n",
       "    <tr>\n",
       "      <th>598</th>\n",
       "      <td>2954.22</td>\n",
       "    </tr>\n",
       "    <tr>\n",
       "      <th>599</th>\n",
       "      <td>2584.59</td>\n",
       "    </tr>\n",
       "    <tr>\n",
       "      <th>600</th>\n",
       "      <td>2939.51</td>\n",
       "    </tr>\n",
       "  </tbody>\n",
       "</table>\n",
       "<p>601 rows × 1 columns</p>\n",
       "</div>"
      ],
      "text/plain": [
       "       Close\n",
       "0      81.52\n",
       "1      76.55\n",
       "2      72.72\n",
       "3      78.05\n",
       "4      81.52\n",
       "..       ...\n",
       "596  3230.78\n",
       "597  3225.52\n",
       "598  2954.22\n",
       "599  2584.59\n",
       "600  2939.51\n",
       "\n",
       "[601 rows x 1 columns]"
      ]
     },
     "execution_count": 27,
     "metadata": {},
     "output_type": "execute_result"
    }
   ],
   "source": [
    "tickerSymbol = '^GSPC'\n",
    "tickerData = yf.Ticker(tickerSymbol)\n",
    "sp500_close = tickerData.history(period='1mo',interval='1mo', start='1970-04-1', end='2020-04-01')[['Close']] #‘1d’ (daily), ‘1mo’ (monthly), ‘1y’ (yearly)\n",
    "sp500_close.reset_index(drop = True,inplace = True)\n",
    "sp500_close"
   ]
  },
  {
   "cell_type": "code",
   "execution_count": 28,
   "metadata": {},
   "outputs": [],
   "source": [
    "n_prediction = 1 # periodos por predecir"
   ]
  },
  {
   "cell_type": "code",
   "execution_count": 29,
   "metadata": {},
   "outputs": [
    {
     "data": {
      "text/html": [
       "<div>\n",
       "<style scoped>\n",
       "    .dataframe tbody tr th:only-of-type {\n",
       "        vertical-align: middle;\n",
       "    }\n",
       "\n",
       "    .dataframe tbody tr th {\n",
       "        vertical-align: top;\n",
       "    }\n",
       "\n",
       "    .dataframe thead th {\n",
       "        text-align: right;\n",
       "    }\n",
       "</style>\n",
       "<table border=\"1\" class=\"dataframe\">\n",
       "  <thead>\n",
       "    <tr style=\"text-align: right;\">\n",
       "      <th></th>\n",
       "      <th>Close</th>\n",
       "      <th>predict</th>\n",
       "    </tr>\n",
       "  </thead>\n",
       "  <tbody>\n",
       "    <tr>\n",
       "      <th>596</th>\n",
       "      <td>3230.78</td>\n",
       "      <td>3225.52</td>\n",
       "    </tr>\n",
       "    <tr>\n",
       "      <th>597</th>\n",
       "      <td>3225.52</td>\n",
       "      <td>2954.22</td>\n",
       "    </tr>\n",
       "    <tr>\n",
       "      <th>598</th>\n",
       "      <td>2954.22</td>\n",
       "      <td>2584.59</td>\n",
       "    </tr>\n",
       "    <tr>\n",
       "      <th>599</th>\n",
       "      <td>2584.59</td>\n",
       "      <td>2939.51</td>\n",
       "    </tr>\n",
       "    <tr>\n",
       "      <th>600</th>\n",
       "      <td>2939.51</td>\n",
       "      <td>NaN</td>\n",
       "    </tr>\n",
       "  </tbody>\n",
       "</table>\n",
       "</div>"
      ],
      "text/plain": [
       "       Close  predict\n",
       "596  3230.78  3225.52\n",
       "597  3225.52  2954.22\n",
       "598  2954.22  2584.59\n",
       "599  2584.59  2939.51\n",
       "600  2939.51      NaN"
      ]
     },
     "execution_count": 29,
     "metadata": {},
     "output_type": "execute_result"
    }
   ],
   "source": [
    "sp500_close['predict'] = sp500_close['Close'].shift(-n_prediction)\n",
    "sp500_close.tail(5)"
   ]
  },
  {
   "cell_type": "code",
   "execution_count": 30,
   "metadata": {},
   "outputs": [
    {
     "data": {
      "text/plain": [
       "(601, 2)"
      ]
     },
     "execution_count": 30,
     "metadata": {},
     "output_type": "execute_result"
    }
   ],
   "source": [
    "sp500_close.shape"
   ]
  },
  {
   "cell_type": "markdown",
   "metadata": {},
   "source": [
    "**separar en numpy arrays las variables y remover filas equivalentes a 'n_prediction'**"
   ]
  },
  {
   "cell_type": "code",
   "execution_count": 31,
   "metadata": {},
   "outputs": [
    {
     "data": {
      "text/plain": [
       "(600, 1)"
      ]
     },
     "execution_count": 31,
     "metadata": {},
     "output_type": "execute_result"
    }
   ],
   "source": [
    "x = np.array(sp500_close.drop(['predict'],1))\n",
    "x = x[:-n_prediction]\n",
    "x.shape #lista de listas"
   ]
  },
  {
   "cell_type": "code",
   "execution_count": 32,
   "metadata": {},
   "outputs": [
    {
     "data": {
      "text/plain": [
       "(600,)"
      ]
     },
     "execution_count": 32,
     "metadata": {},
     "output_type": "execute_result"
    }
   ],
   "source": [
    "y = np.array(sp500_close['predict'])\n",
    "y = y[:-n_prediction]\n",
    "y.shape #lista simple"
   ]
  },
  {
   "cell_type": "markdown",
   "metadata": {},
   "source": [
    "**separar variables para entrenamiento y prueba (80%)**"
   ]
  },
  {
   "cell_type": "code",
   "execution_count": 33,
   "metadata": {},
   "outputs": [],
   "source": [
    "x_entrenamiento,x_prueba,y_entrenamiento,y_prueba = train_test_split(x,y, test_size = 0.2)"
   ]
  },
  {
   "cell_type": "markdown",
   "metadata": {},
   "source": [
    "### crear y entrenar modelo SVR"
   ]
  },
  {
   "cell_type": "code",
   "execution_count": 34,
   "metadata": {},
   "outputs": [
    {
     "data": {
      "text/plain": [
       "SVR(C=1000.0, cache_size=200, coef0=0.0, degree=3, epsilon=0.1, gamma=0.1,\n",
       "    kernel='rbf', max_iter=-1, shrinking=True, tol=0.001, verbose=False)"
      ]
     },
     "execution_count": 34,
     "metadata": {},
     "output_type": "execute_result"
    }
   ],
   "source": [
    "svr_model = SVR(kernel = 'rbf', C = 1e3, gamma = 0.1,)\n",
    "svr_model.fit(x_entrenamiento,y_entrenamiento)"
   ]
  },
  {
   "cell_type": "markdown",
   "metadata": {},
   "source": [
    "**porcentaje de confianza del modelo**"
   ]
  },
  {
   "cell_type": "code",
   "execution_count": 35,
   "metadata": {},
   "outputs": [
    {
     "data": {
      "text/plain": [
       "0.6647526820010685"
      ]
     },
     "execution_count": 35,
     "metadata": {},
     "output_type": "execute_result"
    }
   ],
   "source": [
    "svr_model.score(x_prueba,y_prueba)"
   ]
  },
  {
   "cell_type": "markdown",
   "metadata": {},
   "source": [
    "**Prediccion y graficas**"
   ]
  },
  {
   "cell_type": "code",
   "execution_count": 36,
   "metadata": {},
   "outputs": [
    {
     "data": {
      "text/plain": [
       "array([2740.32337825, 2102.39212449, 2102.40559767, 2294.07648403,\n",
       "       1102.39212449, 2293.19984605, 2368.20571591, 2102.39229669,\n",
       "       2368.20571591, 2102.39212449, 1102.39212449, 2165.25748339,\n",
       "       2165.25748339, 2103.2691244 , 2096.32738831])"
      ]
     },
     "execution_count": 36,
     "metadata": {},
     "output_type": "execute_result"
    }
   ],
   "source": [
    "svr_predict = svr_model.predict(x[585:])\n",
    "svr_predict"
   ]
  },
  {
   "cell_type": "code",
   "execution_count": 37,
   "metadata": {},
   "outputs": [
    {
     "data": {
      "text/plain": [
       "<matplotlib.legend.Legend at 0x2991dbb6848>"
      ]
     },
     "execution_count": 37,
     "metadata": {},
     "output_type": "execute_result"
    },
    {
     "data": {
      "image/png": "[encoded data removed]",
      "text/plain": [
       "<Figure size 432x288 with 1 Axes>"
      ]
     },
     "metadata": {
      "needs_background": "light"
     },
     "output_type": "display_data"
    }
   ],
   "source": [
    "plt.plot(x[-15:],label= 'real')\n",
    "plt.plot(svr_predict,c='r',label= 'prediccion')\n",
    "plt.legend(loc='upper right')"
   ]
  },
  {
   "cell_type": "markdown",
   "metadata": {},
   "source": [
    "### crear y entrenar modelo Regresion lineal"
   ]
  },
  {
   "cell_type": "code",
   "execution_count": 38,
   "metadata": {},
   "outputs": [
    {
     "data": {
      "text/plain": [
       "LinearRegression(copy_X=True, fit_intercept=True, n_jobs=None, normalize=False)"
      ]
     },
     "execution_count": 38,
     "metadata": {},
     "output_type": "execute_result"
    }
   ],
   "source": [
    "rl_model = LinearRegression()\n",
    "rl_model.fit(x_entrenamiento,y_entrenamiento)"
   ]
  },
  {
   "cell_type": "markdown",
   "metadata": {},
   "source": [
    "**porcentaje de confianza del modelo**"
   ]
  },
  {
   "cell_type": "code",
   "execution_count": 39,
   "metadata": {},
   "outputs": [
    {
     "data": {
      "text/plain": [
       "0.994155520931002"
      ]
     },
     "execution_count": 39,
     "metadata": {},
     "output_type": "execute_result"
    }
   ],
   "source": [
    "rl_model.score(x_prueba,y_prueba)"
   ]
  },
  {
   "cell_type": "code",
   "execution_count": 40,
   "metadata": {},
   "outputs": [],
   "source": [
    "rl_predict = svr_model.predict(x[-60:])"
   ]
  },
  {
   "cell_type": "code",
   "execution_count": 41,
   "metadata": {},
   "outputs": [
    {
     "data": {
      "text/plain": [
       "<matplotlib.legend.Legend at 0x2991dc34348>"
      ]
     },
     "execution_count": 41,
     "metadata": {},
     "output_type": "execute_result"
    },
    {
     "data": {
      "image/png": "[encoded data removed]",
      "text/plain": [
       "<Figure size 432x288 with 1 Axes>"
      ]
     },
     "metadata": {
      "needs_background": "light"
     },
     "output_type": "display_data"
    }
   ],
   "source": [
    "plt.plot(x[-60:],label= 'real')\n",
    "plt.plot(rl_predict,c='r',label= 'prediccion')\n",
    "plt.legend(loc='upper right')"
   ]
  }
 ],
 "metadata": {
  "kernelspec": {
   "display_name": "proyect_fin",
   "language": "python",
   "name": "proyect_fin"
  },
  "language_info": {
   "codemirror_mode": {
    "name": "ipython",
    "version": 3
   },
   "file_extension": ".py",
   "mimetype": "text/x-python",
   "name": "python",
   "nbconvert_exporter": "python",
   "pygments_lexer": "ipython3",
   "version": "3.7.4"
  }
 },
 "nbformat": 4,
 "nbformat_minor": 4
}
