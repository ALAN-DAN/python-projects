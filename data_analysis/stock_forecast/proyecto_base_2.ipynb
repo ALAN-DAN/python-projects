{
 "cells": [
  {
   "cell_type": "markdown",
   "metadata": {},
   "source": [
    "# Productos Financieros"
   ]
  },
  {
   "cell_type": "markdown",
   "metadata": {},
   "source": [
    "Alan Cardenas  27/abril/2020"
   ]
  },
  {
   "cell_type": "markdown",
   "metadata": {},
   "source": [
    "Este proyecto esta dedicado a realizar una comparacion de los rendimientos en el ultimo año de fondos de inversíon, acciones, indices y algunos rendimientos de proyectos en la industria fintech.\n",
    "\n",
    "Tambien se incluira un modelo predictivo para analizar el comportamiento del S&P 500."
   ]
  },
  {
   "cell_type": "markdown",
   "metadata": {},
   "source": [
    "![tittle](Images/risk2.jpg)"
   ]
  },
  {
   "cell_type": "markdown",
   "metadata": {},
   "source": [
    "### **Paqueterias y herramientas**"
   ]
  },
  {
   "cell_type": "code",
   "execution_count": 1,
   "metadata": {},
   "outputs": [],
   "source": [
    "import numpy as np\n",
    "import pandas as pd\n",
    "from matplotlib import pyplot as plt\n",
    "import yfinance as yf"
   ]
  },
  {
   "cell_type": "markdown",
   "metadata": {},
   "source": [
    "**Databases**"
   ]
  },
  {
   "cell_type": "markdown",
   "metadata": {},
   "source": [
    "Indices"
   ]
  },
  {
   "cell_type": "code",
   "execution_count": 2,
   "metadata": {},
   "outputs": [],
   "source": [
    "ipc_mes = pd.read_csv('IPC_mensual.csv')\n",
    "ipc_dia = pd.read_csv('IPC_diario.csv')\n",
    "sp500_mes = pd.read_csv('S&P500_mensual.csv')\n",
    "sp500_dia = pd.read_csv('S&P500_diario.csv')"
   ]
  },
  {
   "cell_type": "markdown",
   "metadata": {},
   "source": [
    "Fondos de inversion y fintech"
   ]
  },
  {
   "cell_type": "code",
   "execution_count": 3,
   "metadata": {},
   "outputs": [],
   "source": [
    "bbva = pd.read_csv('bbva_mensual.csv')\n",
    "hsbc = pd.read_csv('hsbc_mensual.csv')\n",
    "maya = pd.read_csv('maya_mensual.csv')\n",
    "rvtec = pd.read_csv('rvtec_mensual.csv')\n",
    "latin9 = pd.read_csv('latin9_mensual.csv')\n",
    "fondos_rend = pd.read_csv('fondos_rend.csv')\n",
    "fintech_rend= pd.read_csv('fintech_rend.csv')"
   ]
  },
  {
   "cell_type": "markdown",
   "metadata": {},
   "source": [
    "FAANG"
   ]
  },
  {
   "cell_type": "code",
   "execution_count": 4,
   "metadata": {},
   "outputs": [],
   "source": [
    "faang_rend= pd.read_csv('faang_rend.csv')"
   ]
  },
  {
   "cell_type": "markdown",
   "metadata": {},
   "source": [
    "## Comparativos"
   ]
  },
  {
   "cell_type": "code",
   "execution_count": 5,
   "metadata": {},
   "outputs": [],
   "source": [
    "def grafobarra(axs, caracteristica_x, caracteristica_y):\n",
    "    columnas = fondos_rend.columns\n",
    "    print(\"Plotteando: \"+columnas[caracteristica_x]+\"(X) vs \"+columnas[caracteristica_y]+\"(Y)\")\n",
    "\n",
    "    graff = axs.bar(fondos_rend.iloc[:,caracteristica_x],fondos_rend.iloc[:,caracteristica_y],label = 'rendimientos',\n",
    "            color=['orange', 'red', 'green', 'pink', 'blue','black'])\n",
    "    \n",
    "    bar_label = fondos_rend.iloc[:,caracteristica_y]\n",
    "    for idx,rect in enumerate(graff):\n",
    "        height = rect.get_height()\n",
    "        axs.text(rect.get_x() + rect.get_width()/2., 1.05*height,\n",
    "                bar_label[idx],\n",
    "                ha='center', va='bottom', rotation=0,color='purple')\n",
    "    \n",
    "    \n",
    "    axs.set_xlabel(columnas[caracteristica_x])\n",
    "    axs.set_ylabel(columnas[caracteristica_y])"
   ]
  },
  {
   "cell_type": "markdown",
   "metadata": {},
   "source": [
    "### IPC vs Fondos de inversion."
   ]
  },
  {
   "cell_type": "markdown",
   "metadata": {},
   "source": [
    "![tittle](Images/fondos.jfif)"
   ]
  },
  {
   "cell_type": "code",
   "execution_count": 6,
   "metadata": {
    "scrolled": false
   },
   "outputs": [
    {
     "name": "stdout",
     "output_type": "stream",
     "text": [
      "Plotteando: Fondos(X) vs rend_feb(Y)\n",
      "Plotteando: Fondos(X) vs rend_abril(Y)\n"
     ]
    },
    {
     "data": {
      "image/png": "[encoded data removed]",
      "text/plain": [
       "<Figure size 720x360 with 2 Axes>"
      ]
     },
     "metadata": {
      "needs_background": "light"
     },
     "output_type": "display_data"
    }
   ],
   "source": [
    "fig, axs = plt.subplots(1, 2,figsize=(10,5))\n",
    "\n",
    "caracteristica_x = 0\n",
    "caracteristica_y = 1\n",
    "grafobarra(axs[0],caracteristica_x, caracteristica_y)\n",
    "\n",
    "caracteristica_x = 0\n",
    "caracteristica_y = 2\n",
    "grafobarra(axs[1],caracteristica_x, caracteristica_y)"
   ]
  },
  {
   "cell_type": "markdown",
   "metadata": {},
   "source": [
    "Funcion para calcular variacion en rendimientos"
   ]
  },
  {
   "cell_type": "code",
   "execution_count": 7,
   "metadata": {},
   "outputs": [],
   "source": [
    "def porcentajes(array):\n",
    "    cambio = [0]\n",
    "    for num in range(len(array) - 1):\n",
    "        cambio.append(round((array[num + 1] / array[num])-1,4))\n",
    "    cambio[0] = np.nanmean(cambio)\n",
    "    return cambio"
   ]
  },
  {
   "cell_type": "markdown",
   "metadata": {},
   "source": [
    "Agregar variacion a todos los DF."
   ]
  },
  {
   "cell_type": "code",
   "execution_count": 8,
   "metadata": {},
   "outputs": [],
   "source": [
    "bbva['var%'] = porcentajes(bbva['Cierre'])\n",
    "hsbc['var%'] = porcentajes(hsbc['Cierre'])\n",
    "maya['var%'] = porcentajes(maya['Cierre'])\n",
    "rvtec['var%'] = porcentajes(rvtec['Cierre'])\n",
    "latin9['var%'] = porcentajes(latin9['Cierre'])"
   ]
  },
  {
   "cell_type": "markdown",
   "metadata": {},
   "source": [
    "**Estadisticos basicos**"
   ]
  },
  {
   "cell_type": "code",
   "execution_count": 9,
   "metadata": {
    "scrolled": true
   },
   "outputs": [],
   "source": [
    "def datos_estadisticos(array):\n",
    "    result1= np.where(array == min(array.loc[:,'var%']))\n",
    "    result2= np.where(array == max(array.loc[:,'var%']))\n",
    "    print(\"rendimiento minimo: \"+ str(min(array.loc[:,'var%'])*100)+' %'+' fecha:'+ array.iloc[result1[0][0],0])\n",
    "    print(\"rendimiento maximo: \"+ str(max(array.loc[:,'var%'])*100)+' %'+' fecha:'+ array.iloc[result2[0][0],0])\n",
    "    print(\"rendimiento promedio: \"+ str(np.mean(array.loc[:,'var%'])*100)+' %')  \n",
    "        "
   ]
  },
  {
   "cell_type": "code",
   "execution_count": 10,
   "metadata": {},
   "outputs": [
    {
     "name": "stdout",
     "output_type": "stream",
     "text": [
      "rendimiento minimo: -22.78 % fecha:01/03/2020\n",
      "rendimiento maximo: 3.6999999999999997 % fecha:01/08/2019\n",
      "rendimiento promedio: -2.0646999999999998 %\n"
     ]
    }
   ],
   "source": [
    "datos_estadisticos(bbva)"
   ]
  },
  {
   "cell_type": "code",
   "execution_count": 11,
   "metadata": {},
   "outputs": [
    {
     "name": "stdout",
     "output_type": "stream",
     "text": [
      "rendimiento minimo: -19.28 % fecha:01/03/2020\n",
      "rendimiento maximo: 3.29 % fecha:01/09/2019\n",
      "rendimiento promedio: -1.4508999999999999 %\n"
     ]
    }
   ],
   "source": [
    "datos_estadisticos(hsbc)"
   ]
  },
  {
   "cell_type": "code",
   "execution_count": 12,
   "metadata": {},
   "outputs": [
    {
     "name": "stdout",
     "output_type": "stream",
     "text": [
      "rendimiento minimo: -19.42 % fecha:01/03/2020\n",
      "rendimiento maximo: 3.08 % fecha:01/08/2019\n",
      "rendimiento promedio: -1.2859 %\n"
     ]
    }
   ],
   "source": [
    "datos_estadisticos(maya)"
   ]
  },
  {
   "cell_type": "code",
   "execution_count": 13,
   "metadata": {},
   "outputs": [
    {
     "name": "stdout",
     "output_type": "stream",
     "text": [
      "rendimiento minimo: -3.5999999999999996 % fecha:01/02/2020\n",
      "rendimiento maximo: 19.759999999999998 % fecha:01/04/2020\n",
      "rendimiento promedio: 4.0007 %\n"
     ]
    }
   ],
   "source": [
    "datos_estadisticos(rvtec)"
   ]
  },
  {
   "cell_type": "code",
   "execution_count": 14,
   "metadata": {},
   "outputs": [
    {
     "name": "stdout",
     "output_type": "stream",
     "text": [
      "rendimiento minimo: -3.8 % fecha:01/02/2020\n",
      "rendimiento maximo: 10.51 % fecha:01/04/2020\n",
      "rendimiento promedio: 1.4113 %\n"
     ]
    }
   ],
   "source": [
    "datos_estadisticos(latin9)"
   ]
  },
  {
   "cell_type": "markdown",
   "metadata": {},
   "source": [
    "### IPC vs Fintechs"
   ]
  },
  {
   "cell_type": "markdown",
   "metadata": {},
   "source": [
    "![tittle](Images/fintech.jpg)"
   ]
  },
  {
   "cell_type": "code",
   "execution_count": 15,
   "metadata": {},
   "outputs": [
    {
     "name": "stdout",
     "output_type": "stream",
     "text": [
      "                  Rendimientos a febrero\n"
     ]
    },
    {
     "data": {
      "text/plain": [
       "Text(0, 0.5, 'rendimientos')"
      ]
     },
     "execution_count": 15,
     "metadata": {},
     "output_type": "execute_result"
    },
    {
     "data": {
      "image/png": "[encoded data removed]",
      "text/plain": [
       "<Figure size 432x288 with 1 Axes>"
      ]
     },
     "metadata": {
      "needs_background": "light"
     },
     "output_type": "display_data"
    }
   ],
   "source": [
    "figsize=(10,5)\n",
    "print(\"                  Rendimientos a febrero\")\n",
    "\n",
    "\n",
    "plt.bar(fintech_rend.iloc[:,0],fintech_rend.iloc[:,1],label = 'rendimientos a enero',color=['orange', 'red', 'yellow','black'])\n",
    "plt.text(x = -0.1,y= 0.14, s= '16%')\n",
    "plt.text(x = 0.9,y= 0.16, s= '18%')\n",
    "plt.text(x = 1.9,y= 0.18, s= '20%')\n",
    "plt.text(x = 2.9,y= 0.01, s= '-6%')\n",
    "plt.xlabel('Fintechs')\n",
    "plt.ylabel('rendimientos')"
   ]
  },
  {
   "cell_type": "markdown",
   "metadata": {},
   "source": [
    "### Indices vs acciones(FAANG)"
   ]
  },
  {
   "cell_type": "markdown",
   "metadata": {},
   "source": [
    "![tittle](Images/stock.jpg)"
   ]
  },
  {
   "cell_type": "code",
   "execution_count": 16,
   "metadata": {},
   "outputs": [],
   "source": [
    "def autolabel1(rects):\n",
    "    for idx,rect in enumerate(rects):\n",
    "        height = rect.get_height()\n",
    "        ax1.text(rect.get_x() + rect.get_width()/2., 1.05*height,\n",
    "                bar_label[idx],\n",
    "                ha='center', va='bottom', rotation=0,color='red')\n",
    "def autolabel2(rects):\n",
    "    for idx,rect in enumerate(rects):\n",
    "        height = rect.get_height()\n",
    "        ax2.text(rect.get_x() + rect.get_width()/2., 1.05*height,\n",
    "                bar_label[idx],\n",
    "                ha='center', va='bottom', rotation=0,color='red')"
   ]
  },
  {
   "cell_type": "code",
   "execution_count": 17,
   "metadata": {
    "scrolled": false
   },
   "outputs": [
    {
     "data": {
      "image/png": "[encoded data removed]",
      "text/plain": [
       "<Figure size 864x720 with 2 Axes>"
      ]
     },
     "metadata": {
      "needs_background": "light"
     },
     "output_type": "display_data"
    }
   ],
   "source": [
    "fig, (ax1, ax2) = plt.subplots(1, 2,figsize=(12,10))\n",
    "\n",
    "graf1 = ax1.bar(faang_rend.iloc[:,0],faang_rend.iloc[:,1],label = 'rendimientos a febrero',\n",
    "                color=['orange', 'red', 'green', 'pink', 'blue','black','gray'])\n",
    "ax1.set_title('Febrero')\n",
    "ax1.set_ylabel('rendimientos')\n",
    "\n",
    "\n",
    "graf2 = ax2.bar(faang_rend.iloc[:,0],faang_rend.iloc[:,2],label = 'rendimientos a abril',\n",
    "                color=['orange', 'red', 'green', 'pink', 'blue','black','gray'])\n",
    "ax2.set_title('Abril')\n",
    "ax2.set_ylabel('rendimientos')\n",
    "\n",
    "bar_label=['9.6%','64.24%','15.47%','18.95%','8.7%','-6.06%','9.25%']\n",
    "autolabel1(graf1)\n",
    "bar_label=['33.78%','48.89%','13.15%','8.24%','19.19%','-19.03%','1.88%']\n",
    "autolabel2(graf2)"
   ]
  },
  {
   "cell_type": "markdown",
   "metadata": {},
   "source": [
    "#### Evolucíon de los rendimientos mensuales"
   ]
  },
  {
   "cell_type": "code",
   "execution_count": 18,
   "metadata": {},
   "outputs": [],
   "source": [
    "def bolsainfo(stock_simbol):\n",
    "    tickerData = yf.Ticker(stock_simbol)\n",
    "    dfname = tickerData.history(period='1mo',interval='1mo', start='2019-04-1', end='2020-04-01')\n",
    "    dfname = dfname.filter(['Close'])\n",
    "    dfname = dfname.reset_index()\n",
    "    dfname['var%'] = porcentajes(dfname['Close'])\n",
    "    return dfname"
   ]
  },
  {
   "cell_type": "code",
   "execution_count": 19,
   "metadata": {},
   "outputs": [
    {
     "data": {
      "text/html": [
       "<div>\n",
       "<style scoped>\n",
       "    .dataframe tbody tr th:only-of-type {\n",
       "        vertical-align: middle;\n",
       "    }\n",
       "\n",
       "    .dataframe tbody tr th {\n",
       "        vertical-align: top;\n",
       "    }\n",
       "\n",
       "    .dataframe thead th {\n",
       "        text-align: right;\n",
       "    }\n",
       "</style>\n",
       "<table border=\"1\" class=\"dataframe\">\n",
       "  <thead>\n",
       "    <tr style=\"text-align: right;\">\n",
       "      <th></th>\n",
       "      <th>Date</th>\n",
       "      <th>Close</th>\n",
       "      <th>var%</th>\n",
       "    </tr>\n",
       "  </thead>\n",
       "  <tbody>\n",
       "    <tr>\n",
       "      <th>0</th>\n",
       "      <td>2019-04-01</td>\n",
       "      <td>1926.52</td>\n",
       "      <td>0.022677</td>\n",
       "    </tr>\n",
       "    <tr>\n",
       "      <th>1</th>\n",
       "      <td>2019-05-01</td>\n",
       "      <td>1775.07</td>\n",
       "      <td>-0.078600</td>\n",
       "    </tr>\n",
       "    <tr>\n",
       "      <th>2</th>\n",
       "      <td>2019-06-01</td>\n",
       "      <td>1893.63</td>\n",
       "      <td>0.066800</td>\n",
       "    </tr>\n",
       "    <tr>\n",
       "      <th>3</th>\n",
       "      <td>2019-07-01</td>\n",
       "      <td>1866.78</td>\n",
       "      <td>-0.014200</td>\n",
       "    </tr>\n",
       "    <tr>\n",
       "      <th>4</th>\n",
       "      <td>2019-08-01</td>\n",
       "      <td>1776.29</td>\n",
       "      <td>-0.048500</td>\n",
       "    </tr>\n",
       "    <tr>\n",
       "      <th>5</th>\n",
       "      <td>2019-09-01</td>\n",
       "      <td>1735.91</td>\n",
       "      <td>-0.022700</td>\n",
       "    </tr>\n",
       "    <tr>\n",
       "      <th>6</th>\n",
       "      <td>2019-10-01</td>\n",
       "      <td>1776.66</td>\n",
       "      <td>0.023500</td>\n",
       "    </tr>\n",
       "    <tr>\n",
       "      <th>7</th>\n",
       "      <td>2019-11-01</td>\n",
       "      <td>1800.80</td>\n",
       "      <td>0.013600</td>\n",
       "    </tr>\n",
       "    <tr>\n",
       "      <th>8</th>\n",
       "      <td>2019-12-01</td>\n",
       "      <td>1847.84</td>\n",
       "      <td>0.026100</td>\n",
       "    </tr>\n",
       "    <tr>\n",
       "      <th>9</th>\n",
       "      <td>2020-01-01</td>\n",
       "      <td>2008.72</td>\n",
       "      <td>0.087100</td>\n",
       "    </tr>\n",
       "    <tr>\n",
       "      <th>10</th>\n",
       "      <td>2020-02-01</td>\n",
       "      <td>1883.75</td>\n",
       "      <td>-0.062200</td>\n",
       "    </tr>\n",
       "    <tr>\n",
       "      <th>11</th>\n",
       "      <td>2020-03-01</td>\n",
       "      <td>1949.72</td>\n",
       "      <td>0.035000</td>\n",
       "    </tr>\n",
       "    <tr>\n",
       "      <th>12</th>\n",
       "      <td>2020-04-01</td>\n",
       "      <td>2474.00</td>\n",
       "      <td>0.268900</td>\n",
       "    </tr>\n",
       "  </tbody>\n",
       "</table>\n",
       "</div>"
      ],
      "text/plain": [
       "         Date    Close      var%\n",
       "0  2019-04-01  1926.52  0.022677\n",
       "1  2019-05-01  1775.07 -0.078600\n",
       "2  2019-06-01  1893.63  0.066800\n",
       "3  2019-07-01  1866.78 -0.014200\n",
       "4  2019-08-01  1776.29 -0.048500\n",
       "5  2019-09-01  1735.91 -0.022700\n",
       "6  2019-10-01  1776.66  0.023500\n",
       "7  2019-11-01  1800.80  0.013600\n",
       "8  2019-12-01  1847.84  0.026100\n",
       "9  2020-01-01  2008.72  0.087100\n",
       "10 2020-02-01  1883.75 -0.062200\n",
       "11 2020-03-01  1949.72  0.035000\n",
       "12 2020-04-01  2474.00  0.268900"
      ]
     },
     "execution_count": 19,
     "metadata": {},
     "output_type": "execute_result"
    }
   ],
   "source": [
    "amazon = bolsainfo('AMZN')\n",
    "apple = bolsainfo('AAPL')\n",
    "facebook = bolsainfo('FB')\n",
    "google = bolsainfo('GOOG')\n",
    "netflix = bolsainfo('NFLX')\n",
    "sp500 = bolsainfo('^GSPC')\n",
    "ipc = bolsainfo('^MXX')\n",
    "\n",
    "amazon"
   ]
  },
  {
   "cell_type": "code",
   "execution_count": 20,
   "metadata": {},
   "outputs": [],
   "source": [
    "apple = apple.drop([2, 6,10,14])\n",
    "apple = apple.reindex()"
   ]
  },
  {
   "cell_type": "markdown",
   "metadata": {},
   "source": [
    "#### Estadisticos"
   ]
  },
  {
   "cell_type": "code",
   "execution_count": 21,
   "metadata": {},
   "outputs": [],
   "source": [
    "def datos_estadisticos2(array):\n",
    "    result1= np.where(array == min(array.loc[:,'var%']))\n",
    "    result2= np.where(array == max(array.loc[:,'var%']))\n",
    "    result3= np.where(array == min(array.loc[:,'Close']))\n",
    "    result4= np.where(array == max(array.loc[:,'Close']))\n",
    "    print(\"rendimiento minimo:   \"+ str(min(array.loc[:,'var%'])*100)+' %'+' fecha:'+ str(array.iloc[result1[0][0],0]))\n",
    "    print(\"rendimiento maximo:   \"+ str(max(array.loc[:,'var%'])*100)+' %'+' fecha:'+ str(array.iloc[result2[0][0],0]))\n",
    "    print(\"rendimiento promedio: \"+ str(np.mean(array.loc[:,'var%'])*100)+' %')\n",
    "    print(\"precio minimo:   \"+ str(min(array.loc[:,'Close']))+' fecha:'+ str(array.iloc[result3[0][0],0]))\n",
    "    print(\"precio maximo:   \"+ str(max(array.loc[:,'Close']))+' fecha:'+ str(array.iloc[result4[0][0],0]))\n",
    "    print(\"precio promedio: \"+ str(np.mean(array.loc[:,'Close'])))"
   ]
  },
  {
   "cell_type": "code",
   "execution_count": 22,
   "metadata": {},
   "outputs": [
    {
     "name": "stdout",
     "output_type": "stream",
     "text": [
      "rendimiento minimo:   -7.86 % fecha:2019-05-01 00:00:00\n",
      "rendimiento maximo:   26.889999999999997 % fecha:2020-04-01 00:00:00\n",
      "rendimiento promedio: 2.4421301775147928 %\n",
      "precio minimo:   1735.91 fecha:2019-09-01 00:00:00\n",
      "precio maximo:   2474.0 fecha:2020-04-01 00:00:00\n",
      "precio promedio: 1901.2069230769232\n"
     ]
    }
   ],
   "source": [
    "datos_estadisticos2(amazon)"
   ]
  },
  {
   "cell_type": "markdown",
   "metadata": {},
   "source": [
    "#### Graficos"
   ]
  },
  {
   "cell_type": "code",
   "execution_count": 23,
   "metadata": {},
   "outputs": [],
   "source": [
    "def grafosimple(axnum,empresa,titulo,columna):\n",
    "    \"\"\"ex:(ax1,apple,'Apple',2) columna:1=precio,2=rendimiento\"\"\"\n",
    "    axnum.plot(empresa.iloc[:,0],empresa.iloc[:,columna],color = 'r')\n",
    "    axnum.set_xlabel('fecha')\n",
    "    axnum.set_ylabel('Rendimiento' if columna == 2 else 'Precio')\n",
    "    axnum.set_title(titulo)"
   ]
  },
  {
   "cell_type": "code",
   "execution_count": 24,
   "metadata": {},
   "outputs": [
    {
     "data": {
      "image/png": "[encoded data removed]",
      "text/plain": [
       "<Figure size 1440x1440 with 7 Axes>"
      ]
     },
     "metadata": {
      "needs_background": "light"
     },
     "output_type": "display_data"
    }
   ],
   "source": [
    "fig = plt.figure(figsize = (20,20))\n",
    "ax1 = fig.add_subplot(3, 3, 1)\n",
    "ax2 = fig.add_subplot(3, 3, 2)\n",
    "ax3 = fig.add_subplot(3, 3, 3)\n",
    "ax4 = fig.add_subplot(3, 3, 4)\n",
    "ax5 = fig.add_subplot(3, 3, 5)\n",
    "ax6 = fig.add_subplot(3, 3, 6)\n",
    "ax7 = fig.add_subplot(3, 3, 7)\n",
    "\n",
    "grafosimple(ax1,amazon,'Amazon',2)\n",
    "grafosimple(ax2,apple,'Apple',1)\n",
    "grafosimple(ax3,google,'Google',2)\n",
    "grafosimple(ax4,facebook,'Facebook',2)\n",
    "grafosimple(ax5,netflix,'Netflix',2)\n",
    "grafosimple(ax6,sp500,'S&P 500',2)\n",
    "grafosimple(ax7,ipc,'IPC',2)"
   ]
  },
  {
   "cell_type": "markdown",
   "metadata": {},
   "source": [
    "## Forecast"
   ]
  },
  {
   "cell_type": "markdown",
   "metadata": {},
   "source": [
    "![tittle](Images/forecast.jpg)"
   ]
  },
  {
   "cell_type": "code",
   "execution_count": 25,
   "metadata": {},
   "outputs": [],
   "source": [
    "from sklearn.model_selection import train_test_split\n",
    "from sklearn.preprocessing import MinMaxScaler\n",
    "from sklearn.linear_model import LinearRegression\n",
    "from sklearn.svm import SVR"
   ]
  },
  {
   "cell_type": "code",
   "execution_count": 31,
   "metadata": {},
   "outputs": [
    {
     "data": {
      "text/html": [
       "<div>\n",
       "<style scoped>\n",
       "    .dataframe tbody tr th:only-of-type {\n",
       "        vertical-align: middle;\n",
       "    }\n",
       "\n",
       "    .dataframe tbody tr th {\n",
       "        vertical-align: top;\n",
       "    }\n",
       "\n",
       "    .dataframe thead th {\n",
       "        text-align: right;\n",
       "    }\n",
       "</style>\n",
       "<table border=\"1\" class=\"dataframe\">\n",
       "  <thead>\n",
       "    <tr style=\"text-align: right;\">\n",
       "      <th></th>\n",
       "      <th>Open</th>\n",
       "      <th>High</th>\n",
       "      <th>Low</th>\n",
       "      <th>Close</th>\n",
       "      <th>Volume</th>\n",
       "      <th>Dividends</th>\n",
       "      <th>Stock Splits</th>\n",
       "    </tr>\n",
       "    <tr>\n",
       "      <th>Date</th>\n",
       "      <th></th>\n",
       "      <th></th>\n",
       "      <th></th>\n",
       "      <th></th>\n",
       "      <th></th>\n",
       "      <th></th>\n",
       "      <th></th>\n",
       "    </tr>\n",
       "  </thead>\n",
       "  <tbody>\n",
       "    <tr>\n",
       "      <th>2005-04-01</th>\n",
       "      <td>1180.59</td>\n",
       "      <td>1189.80</td>\n",
       "      <td>1169.91</td>\n",
       "      <td>1172.92</td>\n",
       "      <td>2168690000</td>\n",
       "      <td>0</td>\n",
       "      <td>0</td>\n",
       "    </tr>\n",
       "    <tr>\n",
       "      <th>2005-04-04</th>\n",
       "      <td>1172.79</td>\n",
       "      <td>1178.61</td>\n",
       "      <td>1167.72</td>\n",
       "      <td>1176.12</td>\n",
       "      <td>2079770000</td>\n",
       "      <td>0</td>\n",
       "      <td>0</td>\n",
       "    </tr>\n",
       "    <tr>\n",
       "      <th>2005-04-05</th>\n",
       "      <td>1176.12</td>\n",
       "      <td>1183.56</td>\n",
       "      <td>1176.12</td>\n",
       "      <td>1181.39</td>\n",
       "      <td>1870800000</td>\n",
       "      <td>0</td>\n",
       "      <td>0</td>\n",
       "    </tr>\n",
       "    <tr>\n",
       "      <th>2005-04-06</th>\n",
       "      <td>1181.39</td>\n",
       "      <td>1189.34</td>\n",
       "      <td>1181.39</td>\n",
       "      <td>1184.07</td>\n",
       "      <td>1797400000</td>\n",
       "      <td>0</td>\n",
       "      <td>0</td>\n",
       "    </tr>\n",
       "    <tr>\n",
       "      <th>2005-04-07</th>\n",
       "      <td>1184.07</td>\n",
       "      <td>1191.88</td>\n",
       "      <td>1183.81</td>\n",
       "      <td>1191.14</td>\n",
       "      <td>1900620000</td>\n",
       "      <td>0</td>\n",
       "      <td>0</td>\n",
       "    </tr>\n",
       "    <tr>\n",
       "      <th>...</th>\n",
       "      <td>...</td>\n",
       "      <td>...</td>\n",
       "      <td>...</td>\n",
       "      <td>...</td>\n",
       "      <td>...</td>\n",
       "      <td>...</td>\n",
       "      <td>...</td>\n",
       "    </tr>\n",
       "    <tr>\n",
       "      <th>2020-03-30</th>\n",
       "      <td>2558.98</td>\n",
       "      <td>2631.80</td>\n",
       "      <td>2545.28</td>\n",
       "      <td>2626.65</td>\n",
       "      <td>5746220000</td>\n",
       "      <td>0</td>\n",
       "      <td>0</td>\n",
       "    </tr>\n",
       "    <tr>\n",
       "      <th>2020-03-31</th>\n",
       "      <td>2614.69</td>\n",
       "      <td>2641.39</td>\n",
       "      <td>2571.15</td>\n",
       "      <td>2584.59</td>\n",
       "      <td>6568290000</td>\n",
       "      <td>0</td>\n",
       "      <td>0</td>\n",
       "    </tr>\n",
       "    <tr>\n",
       "      <th>2020-04-01</th>\n",
       "      <td>2498.08</td>\n",
       "      <td>2522.75</td>\n",
       "      <td>2447.49</td>\n",
       "      <td>2470.50</td>\n",
       "      <td>5947900000</td>\n",
       "      <td>0</td>\n",
       "      <td>0</td>\n",
       "    </tr>\n",
       "    <tr>\n",
       "      <th>2020-04-02</th>\n",
       "      <td>2458.54</td>\n",
       "      <td>2533.22</td>\n",
       "      <td>2455.79</td>\n",
       "      <td>2526.90</td>\n",
       "      <td>6454990000</td>\n",
       "      <td>0</td>\n",
       "      <td>0</td>\n",
       "    </tr>\n",
       "    <tr>\n",
       "      <th>2020-04-03</th>\n",
       "      <td>2514.92</td>\n",
       "      <td>2538.18</td>\n",
       "      <td>2459.96</td>\n",
       "      <td>2488.65</td>\n",
       "      <td>6087190000</td>\n",
       "      <td>0</td>\n",
       "      <td>0</td>\n",
       "    </tr>\n",
       "  </tbody>\n",
       "</table>\n",
       "<p>3779 rows × 7 columns</p>\n",
       "</div>"
      ],
      "text/plain": [
       "               Open     High      Low    Close      Volume  Dividends  \\\n",
       "Date                                                                    \n",
       "2005-04-01  1180.59  1189.80  1169.91  1172.92  2168690000          0   \n",
       "2005-04-04  1172.79  1178.61  1167.72  1176.12  2079770000          0   \n",
       "2005-04-05  1176.12  1183.56  1176.12  1181.39  1870800000          0   \n",
       "2005-04-06  1181.39  1189.34  1181.39  1184.07  1797400000          0   \n",
       "2005-04-07  1184.07  1191.88  1183.81  1191.14  1900620000          0   \n",
       "...             ...      ...      ...      ...         ...        ...   \n",
       "2020-03-30  2558.98  2631.80  2545.28  2626.65  5746220000          0   \n",
       "2020-03-31  2614.69  2641.39  2571.15  2584.59  6568290000          0   \n",
       "2020-04-01  2498.08  2522.75  2447.49  2470.50  5947900000          0   \n",
       "2020-04-02  2458.54  2533.22  2455.79  2526.90  6454990000          0   \n",
       "2020-04-03  2514.92  2538.18  2459.96  2488.65  6087190000          0   \n",
       "\n",
       "            Stock Splits  \n",
       "Date                      \n",
       "2005-04-01             0  \n",
       "2005-04-04             0  \n",
       "2005-04-05             0  \n",
       "2005-04-06             0  \n",
       "2005-04-07             0  \n",
       "...                  ...  \n",
       "2020-03-30             0  \n",
       "2020-03-31             0  \n",
       "2020-04-01             0  \n",
       "2020-04-02             0  \n",
       "2020-04-03             0  \n",
       "\n",
       "[3779 rows x 7 columns]"
      ]
     },
     "execution_count": 31,
     "metadata": {},
     "output_type": "execute_result"
    }
   ],
   "source": [
    "tickerSymbol = '^GSPC'\n",
    "tickerData = yf.Ticker(tickerSymbol)\n",
    "sp500_close = tickerData.history(period='1mo', start='2005-04-1', end='2020-04-05') #‘1d’ (daily), ‘1mo’ (monthly), ‘1y’ (yearly)\n",
    "sp500_close "
   ]
  },
  {
   "cell_type": "code",
   "execution_count": 32,
   "metadata": {},
   "outputs": [
    {
     "data": {
      "text/plain": [
       "Text(0, 0.5, 'precio')"
      ]
     },
     "execution_count": 32,
     "metadata": {},
     "output_type": "execute_result"
    },
    {
     "data": {
      "image/png": "[encoded data removed]",
      "text/plain": [
       "<Figure size 1080x576 with 1 Axes>"
      ]
     },
     "metadata": {
      "needs_background": "light"
     },
     "output_type": "display_data"
    }
   ],
   "source": [
    "plt.figure(figsize=(15,8))\n",
    "plt.title('Precio de cierre historico S&P 500',fontsize = 18)\n",
    "plt.plot(sp500_close['Close'])\n",
    "plt.xlabel('fecha',fontsize = 15)\n",
    "plt.ylabel('precio',fontsize = 15)"
   ]
  },
  {
   "cell_type": "markdown",
   "metadata": {},
   "source": [
    "### Preparar la informacion para entrenar modelos"
   ]
  },
  {
   "cell_type": "markdown",
   "metadata": {},
   "source": [
    "Filtrar 'Close' y convertir a numpy"
   ]
  },
  {
   "cell_type": "code",
   "execution_count": 33,
   "metadata": {},
   "outputs": [
    {
     "data": {
      "text/plain": [
       "numpy.ndarray"
      ]
     },
     "execution_count": 33,
     "metadata": {},
     "output_type": "execute_result"
    }
   ],
   "source": [
    "sp500_close = sp500_close.filter(['Close'])\n",
    "sp500_np = sp500_close.values\n",
    "type(sp500_np)"
   ]
  },
  {
   "cell_type": "markdown",
   "metadata": {},
   "source": [
    "longitud de entrenamiento"
   ]
  },
  {
   "cell_type": "code",
   "execution_count": 34,
   "metadata": {},
   "outputs": [
    {
     "data": {
      "text/plain": [
       "3023"
      ]
     },
     "execution_count": 34,
     "metadata": {},
     "output_type": "execute_result"
    }
   ],
   "source": [
    "longitud_entrenamiento = int(len(sp500_np)*.8)\n",
    "longitud_entrenamiento"
   ]
  },
  {
   "cell_type": "markdown",
   "metadata": {},
   "source": [
    "Normalizado"
   ]
  },
  {
   "cell_type": "code",
   "execution_count": 35,
   "metadata": {},
   "outputs": [],
   "source": [
    "escalado = MinMaxScaler(feature_range=(0,1))\n",
    "sp500_norm = escalado.fit_transform(sp500_np)"
   ]
  },
  {
   "cell_type": "markdown",
   "metadata": {},
   "source": [
    "Crear el dataset de entrenamiento"
   ]
  },
  {
   "cell_type": "code",
   "execution_count": 36,
   "metadata": {},
   "outputs": [],
   "source": [
    "train_data = sp500_norm[0:longitud_entrenamiento,:]"
   ]
  },
  {
   "cell_type": "markdown",
   "metadata": {},
   "source": [
    "dividir en x_train y y_train (2 ejecuciones)"
   ]
  },
  {
   "cell_type": "code",
   "execution_count": 42,
   "metadata": {},
   "outputs": [],
   "source": [
    "x_train = []\n",
    "y_train = []\n",
    "\n",
    "for i in range(60,len(train_data)):\n",
    "    x_train.append(train_data[i-60:i,0]) \n",
    "    y_train.append(train_data[i,0]) "
   ]
  },
  {
   "cell_type": "markdown",
   "metadata": {},
   "source": [
    "convertir a numpy"
   ]
  },
  {
   "cell_type": "code",
   "execution_count": 44,
   "metadata": {},
   "outputs": [],
   "source": [
    "x_train,y_train = np.array(x_train),np.array(y_train)"
   ]
  },
  {
   "cell_type": "markdown",
   "metadata": {},
   "source": [
    "### crear y entrenar modelo de regresion lineal"
   ]
  },
  {
   "cell_type": "code",
   "execution_count": 45,
   "metadata": {},
   "outputs": [],
   "source": [
    "lr_model = LinearRegression()"
   ]
  },
  {
   "cell_type": "code",
   "execution_count": 46,
   "metadata": {},
   "outputs": [
    {
     "data": {
      "text/plain": [
       "LinearRegression(copy_X=True, fit_intercept=True, n_jobs=None, normalize=False)"
      ]
     },
     "execution_count": 46,
     "metadata": {},
     "output_type": "execute_result"
    }
   ],
   "source": [
    "lr_model.fit(x_train,y_train)"
   ]
  },
  {
   "cell_type": "markdown",
   "metadata": {},
   "source": [
    "Crear el dataset de prueba"
   ]
  },
  {
   "cell_type": "code",
   "execution_count": 78,
   "metadata": {},
   "outputs": [],
   "source": [
    "test_data = sp500_norm[longitud_entrenamiento - 60:,:]"
   ]
  },
  {
   "cell_type": "markdown",
   "metadata": {},
   "source": [
    "dividir en x_test y y_test"
   ]
  },
  {
   "cell_type": "code",
   "execution_count": 79,
   "metadata": {},
   "outputs": [],
   "source": [
    "x_test = []\n",
    "y_test = sp500_np[longitud_entrenamiento:,:]\n",
    "\n",
    "for i in range(60, len(test_data)):\n",
    "    x_test.append(test_data[i-60:i,0])"
   ]
  },
  {
   "cell_type": "code",
   "execution_count": 80,
   "metadata": {},
   "outputs": [],
   "source": [
    "x_test = np.array(x_test)"
   ]
  },
  {
   "cell_type": "code",
   "execution_count": 81,
   "metadata": {},
   "outputs": [],
   "source": [
    "lr_predic = lr_model.predict(x_test)"
   ]
  },
  {
   "cell_type": "markdown",
   "metadata": {},
   "source": [
    "Quitar normalizado"
   ]
  },
  {
   "cell_type": "code",
   "execution_count": 82,
   "metadata": {},
   "outputs": [
    {
     "data": {
      "text/plain": [
       "(756, 1)"
      ]
     },
     "execution_count": 82,
     "metadata": {},
     "output_type": "execute_result"
    }
   ],
   "source": [
    "lr_predic = np.reshape(lr_predic,(lr_predic.shape[0],1))\n",
    "lr_predic.shape"
   ]
  },
  {
   "cell_type": "code",
   "execution_count": 83,
   "metadata": {},
   "outputs": [],
   "source": [
    "lr_predic = escalado.inverse_transform(lr_predic)"
   ]
  },
  {
   "cell_type": "markdown",
   "metadata": {},
   "source": [
    "confianza del modelo"
   ]
  },
  {
   "cell_type": "markdown",
   "metadata": {},
   "source": [
    "**Raíz de la Desviación Cuadrática Media (RMSE)**"
   ]
  },
  {
   "cell_type": "code",
   "execution_count": 86,
   "metadata": {},
   "outputs": [
    {
     "data": {
      "text/plain": [
       "0.5371116940874398"
      ]
     },
     "execution_count": 86,
     "metadata": {},
     "output_type": "execute_result"
    }
   ],
   "source": [
    "rmse = np.sqrt( np.mean(lr_predic - y_test)**2)\n",
    "rmse"
   ]
  },
  {
   "cell_type": "markdown",
   "metadata": {},
   "source": [
    "Graficas"
   ]
  },
  {
   "cell_type": "code",
   "execution_count": 87,
   "metadata": {},
   "outputs": [
    {
     "name": "stderr",
     "output_type": "stream",
     "text": [
      "C:\\Users\\af673\\Anaconda3\\envs\\proyect_fin\\lib\\site-packages\\ipykernel_launcher.py:3: SettingWithCopyWarning: \n",
      "A value is trying to be set on a copy of a slice from a DataFrame.\n",
      "Try using .loc[row_indexer,col_indexer] = value instead\n",
      "\n",
      "See the caveats in the documentation: https://pandas.pydata.org/pandas-docs/stable/user_guide/indexing.html#returning-a-view-versus-a-copy\n",
      "  This is separate from the ipykernel package so we can avoid doing imports until\n"
     ]
    }
   ],
   "source": [
    "entrenamiento = sp500_close[:longitud_entrenamiento]\n",
    "validacion = sp500_close[longitud_entrenamiento:]\n",
    "validacion['Predicciones']= lr_predic"
   ]
  },
  {
   "cell_type": "code",
   "execution_count": 88,
   "metadata": {},
   "outputs": [
    {
     "data": {
      "image/png": "[encoded data removed]",
      "text/plain": [
       "<Figure size 1080x576 with 1 Axes>"
      ]
     },
     "metadata": {
      "needs_background": "light"
     },
     "output_type": "display_data"
    }
   ],
   "source": [
    "plt.figure(figsize=(15,8))\n",
    "plt.title('Modelo Regresion lineal',fontsize = 18)\n",
    "plt.xlabel('fecha',fontsize = 15)\n",
    "plt.ylabel('precio',fontsize = 15)\n",
    "plt.plot(entrenamiento['Close'])\n",
    "plt.plot(validacion[['Close','Predicciones']])\n",
    "plt.legend(['entrenamiento','validacion','Predicciones'],loc = 'lower right')\n",
    "plt.show()"
   ]
  },
  {
   "cell_type": "code",
   "execution_count": 89,
   "metadata": {},
   "outputs": [
    {
     "data": {
      "text/html": [
       "<div>\n",
       "<style scoped>\n",
       "    .dataframe tbody tr th:only-of-type {\n",
       "        vertical-align: middle;\n",
       "    }\n",
       "\n",
       "    .dataframe tbody tr th {\n",
       "        vertical-align: top;\n",
       "    }\n",
       "\n",
       "    .dataframe thead th {\n",
       "        text-align: right;\n",
       "    }\n",
       "</style>\n",
       "<table border=\"1\" class=\"dataframe\">\n",
       "  <thead>\n",
       "    <tr style=\"text-align: right;\">\n",
       "      <th></th>\n",
       "      <th>Close</th>\n",
       "      <th>Predicciones</th>\n",
       "    </tr>\n",
       "    <tr>\n",
       "      <th>Date</th>\n",
       "      <th></th>\n",
       "      <th></th>\n",
       "    </tr>\n",
       "  </thead>\n",
       "  <tbody>\n",
       "    <tr>\n",
       "      <th>2017-04-04</th>\n",
       "      <td>2360.16</td>\n",
       "      <td>2357.916974</td>\n",
       "    </tr>\n",
       "    <tr>\n",
       "      <th>2017-04-05</th>\n",
       "      <td>2352.95</td>\n",
       "      <td>2356.142105</td>\n",
       "    </tr>\n",
       "    <tr>\n",
       "      <th>2017-04-06</th>\n",
       "      <td>2357.49</td>\n",
       "      <td>2352.340936</td>\n",
       "    </tr>\n",
       "    <tr>\n",
       "      <th>2017-04-07</th>\n",
       "      <td>2355.54</td>\n",
       "      <td>2360.684705</td>\n",
       "    </tr>\n",
       "    <tr>\n",
       "      <th>2017-04-10</th>\n",
       "      <td>2357.16</td>\n",
       "      <td>2356.810038</td>\n",
       "    </tr>\n",
       "    <tr>\n",
       "      <th>...</th>\n",
       "      <td>...</td>\n",
       "      <td>...</td>\n",
       "    </tr>\n",
       "    <tr>\n",
       "      <th>2020-03-30</th>\n",
       "      <td>2626.65</td>\n",
       "      <td>2513.425213</td>\n",
       "    </tr>\n",
       "    <tr>\n",
       "      <th>2020-03-31</th>\n",
       "      <td>2584.59</td>\n",
       "      <td>2617.323715</td>\n",
       "    </tr>\n",
       "    <tr>\n",
       "      <th>2020-04-01</th>\n",
       "      <td>2470.50</td>\n",
       "      <td>2589.102694</td>\n",
       "    </tr>\n",
       "    <tr>\n",
       "      <th>2020-04-02</th>\n",
       "      <td>2526.90</td>\n",
       "      <td>2499.849862</td>\n",
       "    </tr>\n",
       "    <tr>\n",
       "      <th>2020-04-03</th>\n",
       "      <td>2488.65</td>\n",
       "      <td>2511.209043</td>\n",
       "    </tr>\n",
       "  </tbody>\n",
       "</table>\n",
       "<p>756 rows × 2 columns</p>\n",
       "</div>"
      ],
      "text/plain": [
       "              Close  Predicciones\n",
       "Date                             \n",
       "2017-04-04  2360.16   2357.916974\n",
       "2017-04-05  2352.95   2356.142105\n",
       "2017-04-06  2357.49   2352.340936\n",
       "2017-04-07  2355.54   2360.684705\n",
       "2017-04-10  2357.16   2356.810038\n",
       "...             ...           ...\n",
       "2020-03-30  2626.65   2513.425213\n",
       "2020-03-31  2584.59   2617.323715\n",
       "2020-04-01  2470.50   2589.102694\n",
       "2020-04-02  2526.90   2499.849862\n",
       "2020-04-03  2488.65   2511.209043\n",
       "\n",
       "[756 rows x 2 columns]"
      ]
     },
     "execution_count": 89,
     "metadata": {},
     "output_type": "execute_result"
    }
   ],
   "source": [
    "validacion"
   ]
  },
  {
   "cell_type": "markdown",
   "metadata": {},
   "source": [
    "### crear y entrenar modelo SVR"
   ]
  },
  {
   "cell_type": "code",
   "execution_count": 90,
   "metadata": {},
   "outputs": [
    {
     "data": {
      "text/plain": [
       "SVR(C=1000.0, cache_size=200, coef0=0.0, degree=3, epsilon=0.1, gamma=0.1,\n",
       "    kernel='rbf', max_iter=-1, shrinking=True, tol=0.001, verbose=False)"
      ]
     },
     "execution_count": 90,
     "metadata": {},
     "output_type": "execute_result"
    }
   ],
   "source": [
    "svr_model = SVR(kernel = 'rbf', C = 1e3, gamma = 0.1,)\n",
    "svr_model.fit(x_train,y_train)"
   ]
  },
  {
   "cell_type": "markdown",
   "metadata": {},
   "source": [
    "**Prediccion y graficas**"
   ]
  },
  {
   "cell_type": "code",
   "execution_count": 93,
   "metadata": {},
   "outputs": [
    {
     "data": {
      "text/plain": [
       "array([0.54049959, 0.54064254, 0.54077141, 0.5409112 , 0.54103572,\n",
       "       0.54117687, 0.54129522, 0.54139105, 0.54143562, 0.54153703,\n",
       "       0.54160847, 0.54167792, 0.54177957, 0.54184473, 0.5419787 ,\n",
       "       0.54214851, 0.54232258, 0.54251197, 0.54268006, 0.54286165,\n",
       "       0.54301647, 0.54316439, 0.54330341, 0.54344668, 0.54358222,\n",
       "       0.54368861, 0.54378743, 0.54386055, 0.54391947, 0.54400439,\n",
       "       0.54408542, 0.5440479 , 0.54403725, 0.54405342, 0.54409929,\n",
       "       0.54414772, 0.54420395, 0.54428232, 0.54437757, 0.54445382,\n",
       "       0.54453222, 0.54465187, 0.5447929 , 0.54492577, 0.54503573,\n",
       "       0.54514829, 0.54526858, 0.54537339, 0.5454623 , 0.5455858 ,\n",
       "       0.54569611, 0.54580852, 0.54590449, 0.54602504, 0.54611896,\n",
       "       0.54621141, 0.54629983, 0.54639866, 0.54649719, 0.54654279,\n",
       "       0.54663673, 0.54668883, 0.54675104, 0.54682381, 0.54690673,\n",
       "       0.54695462, 0.5470224 , 0.54709407, 0.54716399, 0.54726481,\n",
       "       0.54736974, 0.54748493, 0.54758277, 0.54767235, 0.5477797 ,\n",
       "       0.54787421, 0.54796316, 0.54804154, 0.54813493, 0.54822472,\n",
       "       0.54829749, 0.54836526, 0.54841715, 0.54849003, 0.54855425,\n",
       "       0.54861152, 0.54867672, 0.54875105, 0.54881532, 0.54887214,\n",
       "       0.54887349, 0.5488786 , 0.54892141, 0.54894869, 0.54898283,\n",
       "       0.5489552 , 0.54891273, 0.54888301, 0.54888569, 0.54887422,\n",
       "       0.5488584 , 0.54885226, 0.54885259, 0.54885396, 0.54887193,\n",
       "       0.54889797, 0.54894376, 0.54895436, 0.54897778, 0.54899862,\n",
       "       0.54900401, 0.54904527, 0.54908962, 0.54915132, 0.54920605,\n",
       "       0.54927035, 0.54932449, 0.54938467, 0.54943194, 0.54947361,\n",
       "       0.54953171, 0.54957688, 0.5496106 , 0.54964866, 0.54968615,\n",
       "       0.54972056, 0.54976862, 0.54981313, 0.54986221, 0.54992696,\n",
       "       0.54997033, 0.5500132 , 0.55005584, 0.55011052, 0.55017437,\n",
       "       0.55021997, 0.55025694, 0.55028575, 0.55032425, 0.55035607,\n",
       "       0.55039043, 0.55040673, 0.55042067, 0.55043581, 0.55044516,\n",
       "       0.55046922, 0.55049229, 0.55051955, 0.55054099, 0.55055741,\n",
       "       0.55054791, 0.5505423 , 0.55054848, 0.55055788, 0.55055811,\n",
       "       0.55053696, 0.55050829, 0.55048038, 0.55045008, 0.55041563,\n",
       "       0.55037322, 0.5503263 , 0.55027649, 0.55022207, 0.55017159,\n",
       "       0.55012598, 0.55008203, 0.55002005, 0.54995685, 0.5498854 ,\n",
       "       0.54980575, 0.54974557, 0.54968156, 0.54961674, 0.5495398 ,\n",
       "       0.5494589 , 0.54937324, 0.54928664, 0.54919777, 0.54908313,\n",
       "       0.54896031, 0.54882599, 0.5486959 , 0.54855548, 0.54841506,\n",
       "       0.54827718, 0.54813527, 0.54799974, 0.54786965, 0.54774262,\n",
       "       0.54759378, 0.54742738, 0.54723697, 0.54704188, 0.54683741,\n",
       "       0.5466356 , 0.54641921, 0.54617114, 0.54592746, 0.54564042,\n",
       "       0.54536496, 0.54504971, 0.54469474, 0.54429704, 0.5438979 ,\n",
       "       0.54351396, 0.54304423, 0.5426057 , 0.54222456, 0.54182778,\n",
       "       0.54145093, 0.54116453, 0.54098049, 0.54075888, 0.54053494,\n",
       "       0.54036024, 0.54016263, 0.53994094, 0.53970361, 0.53947387,\n",
       "       0.53919142, 0.53893894, 0.53873674, 0.53853901, 0.53835451,\n",
       "       0.53813691, 0.53791577, 0.53773404, 0.53762012, 0.53752652,\n",
       "       0.53739575, 0.53720417, 0.53699847, 0.53680504, 0.53663406,\n",
       "       0.53640295, 0.53619289, 0.53599962, 0.53580137, 0.53567217,\n",
       "       0.53556989, 0.53549811, 0.53540947, 0.53532225, 0.53528265,\n",
       "       0.53526054, 0.53520718, 0.53520618, 0.53518739, 0.5351767 ,\n",
       "       0.53524894, 0.5353567 , 0.53547125, 0.53560241, 0.53579472,\n",
       "       0.53595931, 0.53614842, 0.53637745, 0.53656298, 0.53681564,\n",
       "       0.53704465, 0.53729732, 0.53761668, 0.53796739, 0.53832841,\n",
       "       0.53870162, 0.53921267, 0.53969104, 0.54007681, 0.54046614,\n",
       "       0.54087469, 0.54111121, 0.54109563, 0.54115564, 0.54116446,\n",
       "       0.54096731, 0.54084818, 0.54079181, 0.54071039, 0.54071401,\n",
       "       0.54078915, 0.54089073, 0.54092705, 0.54095443, 0.54099032,\n",
       "       0.54109517, 0.5413026 , 0.54137647, 0.54138974, 0.54130809,\n",
       "       0.54127825, 0.54127936, 0.54130692, 0.54131757, 0.54133304,\n",
       "       0.54147797, 0.54158191, 0.54166857, 0.54169859, 0.54171823,\n",
       "       0.5417561 , 0.54171533, 0.54168692, 0.54165518, 0.54147005,\n",
       "       0.54119113, 0.5410412 , 0.54081059, 0.54055022, 0.54039658,\n",
       "       0.54012536, 0.53993712, 0.53978065, 0.539658  , 0.53941081,\n",
       "       0.53919115, 0.53902447, 0.53879399, 0.53857037, 0.53833339,\n",
       "       0.53817993, 0.53805578, 0.53794651, 0.53779466, 0.5375692 ,\n",
       "       0.53732622, 0.53702743, 0.53673243, 0.53649446, 0.53623159,\n",
       "       0.53585821, 0.53550863, 0.53512878, 0.53476998, 0.53444259,\n",
       "       0.53413357, 0.53379925, 0.53349682, 0.53324516, 0.5329861 ,\n",
       "       0.53273841, 0.53243229, 0.53220317, 0.53197116, 0.53170414,\n",
       "       0.53152571, 0.53128649, 0.53104593, 0.53077562, 0.53046785,\n",
       "       0.53007968, 0.52977735, 0.52938558, 0.52901711, 0.52866785,\n",
       "       0.52827612, 0.52797439, 0.52766664, 0.52739683, 0.52715859,\n",
       "       0.5269459 , 0.52671733, 0.52649019, 0.52623677, 0.52595888,\n",
       "       0.5256261 , 0.52530022, 0.52497818, 0.52462433, 0.52416961,\n",
       "       0.52367587, 0.52312461, 0.52263331, 0.52214388, 0.52169124,\n",
       "       0.52117938, 0.52072472, 0.52028907, 0.51992422, 0.51957681,\n",
       "       0.51922921, 0.51898939, 0.51875224, 0.51851744, 0.51849101,\n",
       "       0.51856087, 0.51853968, 0.51853619, 0.51845432, 0.51841832,\n",
       "       0.51853297, 0.51863234, 0.51868735, 0.51872192, 0.51889187,\n",
       "       0.51900853, 0.51922329, 0.51950887, 0.51979617, 0.52007697,\n",
       "       0.52032728, 0.52058085, 0.52075021, 0.52087454, 0.52096096,\n",
       "       0.52099384, 0.52112948, 0.52137694, 0.52164964, 0.52197054,\n",
       "       0.52224629, 0.52249766, 0.52284756, 0.52330304, 0.52376225,\n",
       "       0.52428565, 0.52474271, 0.5251918 , 0.52557724, 0.52595905,\n",
       "       0.52628154, 0.52654656, 0.52693598, 0.52739573, 0.52789519,\n",
       "       0.52844426, 0.52898926, 0.52944401, 0.52996333, 0.5305036 ,\n",
       "       0.5311579 , 0.53180349, 0.53244631, 0.5330726 , 0.53362882,\n",
       "       0.53415175, 0.53475648, 0.5354347 , 0.5361019 , 0.5368217 ,\n",
       "       0.53748468, 0.53809799, 0.53873283, 0.53934622, 0.53969715,\n",
       "       0.53989173, 0.54022392, 0.54050489, 0.54097035, 0.54141997,\n",
       "       0.54176129, 0.54210121, 0.54238771, 0.54264434, 0.54268895,\n",
       "       0.54282589, 0.54282594, 0.54279623, 0.54284568, 0.54294825,\n",
       "       0.54310102, 0.54320942, 0.54333228, 0.54350452, 0.54384092,\n",
       "       0.5442069 , 0.54447531, 0.54461432, 0.54472099, 0.54475966,\n",
       "       0.54487439, 0.54498503, 0.5449758 , 0.54484471, 0.5447124 ,\n",
       "       0.54446391, 0.54429146, 0.54413504, 0.54414773, 0.54416073,\n",
       "       0.5442184 , 0.54435906, 0.54428951, 0.54421221, 0.54403995,\n",
       "       0.54388007, 0.54367116, 0.54351378, 0.54332914, 0.54307428,\n",
       "       0.54270926, 0.54235201, 0.54190874, 0.54143424, 0.54084104,\n",
       "       0.54029794, 0.53983001, 0.53934171, 0.53884307, 0.53833463,\n",
       "       0.53777472, 0.5370848 , 0.53648398, 0.53589459, 0.53532035,\n",
       "       0.5347328 , 0.53414799, 0.53358326, 0.53297375, 0.53241476,\n",
       "       0.53181379, 0.53124351, 0.53073267, 0.53015948, 0.52957601,\n",
       "       0.52898409, 0.52836189, 0.52771307, 0.52704312, 0.52642468,\n",
       "       0.52585877, 0.52528927, 0.52482848, 0.52440295, 0.52388424,\n",
       "       0.52331598, 0.52285807, 0.52239759, 0.52204604, 0.52168956,\n",
       "       0.52144016, 0.52123961, 0.52102193, 0.520769  , 0.52052719,\n",
       "       0.52036397, 0.52017438, 0.52000059, 0.51988425, 0.51974842,\n",
       "       0.51970854, 0.5196764 , 0.51961675, 0.51956482, 0.51945333,\n",
       "       0.51924527, 0.51909422, 0.51894592, 0.51878605, 0.51858865,\n",
       "       0.51844538, 0.51835108, 0.51823869, 0.5181101 , 0.51807248,\n",
       "       0.51780131, 0.51749421, 0.51716398, 0.51678256, 0.5164405 ,\n",
       "       0.51621394, 0.51610106, 0.51595227, 0.51577949, 0.51556997,\n",
       "       0.51538519, 0.51514618, 0.5148635 , 0.51464926, 0.5144276 ,\n",
       "       0.51421967, 0.51398123, 0.51368529, 0.51337442, 0.51310432,\n",
       "       0.51288854, 0.5127303 , 0.51260182, 0.51245662, 0.51229785,\n",
       "       0.51210978, 0.51196399, 0.51169175, 0.51140315, 0.51124078,\n",
       "       0.51112012, 0.51091092, 0.5107464 , 0.51073456, 0.51066899,\n",
       "       0.51039552, 0.5100686 , 0.50984555, 0.50977775, 0.50957369,\n",
       "       0.50949122, 0.5094769 , 0.50936366, 0.5090896 , 0.50890364,\n",
       "       0.50858494, 0.50821769, 0.50801251, 0.50763138, 0.5072373 ,\n",
       "       0.50696355, 0.50667881, 0.50643131, 0.50632592, 0.5061724 ,\n",
       "       0.50592656, 0.50564608, 0.50542201, 0.50517785, 0.50488482,\n",
       "       0.50465456, 0.50443973, 0.50434932, 0.5042104 , 0.50406148,\n",
       "       0.50380897, 0.50357664, 0.50337139, 0.5032708 , 0.50321102,\n",
       "       0.50319468, 0.50332026, 0.50338258, 0.50346995, 0.5036903 ,\n",
       "       0.50388225, 0.50402994, 0.50426062, 0.50460597, 0.50485264,\n",
       "       0.50498963, 0.50508134, 0.50510096, 0.50508504, 0.50515835,\n",
       "       0.50529045, 0.50539197, 0.50553899, 0.50570302, 0.5058043 ,\n",
       "       0.50577415, 0.50561136, 0.50532306, 0.50475102, 0.50426163,\n",
       "       0.50380447, 0.50345093, 0.50300176, 0.50243538, 0.50200354,\n",
       "       0.50127116, 0.50054007, 0.49995084, 0.49946234, 0.49889146,\n",
       "       0.49839164, 0.49780238, 0.49697026, 0.49622493, 0.49548813,\n",
       "       0.49481698, 0.49423862, 0.49359237, 0.4928576 , 0.49217086,\n",
       "       0.49164414, 0.49120857, 0.49083557, 0.49040444, 0.49002215,\n",
       "       0.48958035, 0.48916618, 0.48873521, 0.48830031, 0.48778207,\n",
       "       0.48726476, 0.48662912, 0.4859984 , 0.48529102, 0.48459868,\n",
       "       0.48382849, 0.48299521, 0.48221538, 0.4812623 , 0.48016998,\n",
       "       0.47919812, 0.4783179 , 0.4772888 , 0.4762137 , 0.47516525,\n",
       "       0.47421052, 0.47330375, 0.47231609, 0.47144665, 0.47047861,\n",
       "       0.46955494, 0.46857825, 0.46757283, 0.46649113, 0.46547078,\n",
       "       0.46446083, 0.46347521, 0.46264834, 0.46197702, 0.46123228,\n",
       "       0.46047348, 0.4597723 , 0.45928469, 0.45871017, 0.45799072,\n",
       "       0.45717937, 0.45635467, 0.45557375, 0.45473507, 0.45388935,\n",
       "       0.45298347, 0.4521747 , 0.45135081, 0.45055478, 0.44967106,\n",
       "       0.44881875, 0.44810321, 0.44778878, 0.44774629, 0.44777348,\n",
       "       0.44805921, 0.44830015, 0.44820031, 0.44834866, 0.44823657,\n",
       "       0.44844727, 0.44874249, 0.44938635, 0.44986407, 0.45064758,\n",
       "       0.45160855, 0.4525156 , 0.45358452, 0.45464981, 0.45578609,\n",
       "       0.45698826, 0.45821975, 0.45939979, 0.46075133, 0.4621102 ,\n",
       "       0.46336895, 0.46473295, 0.46618127, 0.46761061, 0.46912798,\n",
       "       0.47063677])"
      ]
     },
     "execution_count": 93,
     "metadata": {},
     "output_type": "execute_result"
    }
   ],
   "source": [
    "svr_predict = svr_model.predict(x_test)\n",
    "svr_predict"
   ]
  },
  {
   "cell_type": "markdown",
   "metadata": {},
   "source": [
    "Quitar normalizado"
   ]
  },
  {
   "cell_type": "code",
   "execution_count": 94,
   "metadata": {},
   "outputs": [],
   "source": [
    "svr_predict = np.reshape(svr_predict,(svr_predict.shape[0],1))\n",
    "svr_predict = escalado.inverse_transform(svr_predict)"
   ]
  },
  {
   "cell_type": "markdown",
   "metadata": {},
   "source": [
    "**Raíz de la Desviación Cuadrática Media (RMSE)**"
   ]
  },
  {
   "cell_type": "code",
   "execution_count": 96,
   "metadata": {},
   "outputs": [
    {
     "data": {
      "text/plain": [
       "662.3684697997143"
      ]
     },
     "execution_count": 96,
     "metadata": {},
     "output_type": "execute_result"
    }
   ],
   "source": [
    "rmse = np.sqrt( np.mean(svr_predict - y_test)**2)\n",
    "rmse"
   ]
  },
  {
   "cell_type": "markdown",
   "metadata": {},
   "source": [
    "Graficas"
   ]
  },
  {
   "cell_type": "code",
   "execution_count": 99,
   "metadata": {},
   "outputs": [
    {
     "name": "stderr",
     "output_type": "stream",
     "text": [
      "C:\\Users\\af673\\Anaconda3\\envs\\proyect_fin\\lib\\site-packages\\ipykernel_launcher.py:1: SettingWithCopyWarning: \n",
      "A value is trying to be set on a copy of a slice from a DataFrame.\n",
      "Try using .loc[row_indexer,col_indexer] = value instead\n",
      "\n",
      "See the caveats in the documentation: https://pandas.pydata.org/pandas-docs/stable/user_guide/indexing.html#returning-a-view-versus-a-copy\n",
      "  \"\"\"Entry point for launching an IPython kernel.\n"
     ]
    }
   ],
   "source": [
    "validacion['Predicciones']= svr_predict"
   ]
  },
  {
   "cell_type": "code",
   "execution_count": 100,
   "metadata": {},
   "outputs": [
    {
     "data": {
      "image/png": "[encoded data removed]",
      "text/plain": [
       "<Figure size 1080x576 with 1 Axes>"
      ]
     },
     "metadata": {
      "needs_background": "light"
     },
     "output_type": "display_data"
    }
   ],
   "source": [
    "plt.figure(figsize=(15,8))\n",
    "plt.title('Modelo SRV',fontsize = 18)\n",
    "plt.xlabel('fecha',fontsize = 15)\n",
    "plt.ylabel('precio',fontsize = 15)\n",
    "plt.plot(entrenamiento['Close'])\n",
    "plt.plot(validacion[['Close','Predicciones']])\n",
    "plt.legend(['entrenamiento','validacion','Predicciones'],loc = 'lower right')\n",
    "plt.show()"
   ]
  },
  {
   "cell_type": "code",
   "execution_count": 101,
   "metadata": {},
   "outputs": [
    {
     "data": {
      "text/html": [
       "<div>\n",
       "<style scoped>\n",
       "    .dataframe tbody tr th:only-of-type {\n",
       "        vertical-align: middle;\n",
       "    }\n",
       "\n",
       "    .dataframe tbody tr th {\n",
       "        vertical-align: top;\n",
       "    }\n",
       "\n",
       "    .dataframe thead th {\n",
       "        text-align: right;\n",
       "    }\n",
       "</style>\n",
       "<table border=\"1\" class=\"dataframe\">\n",
       "  <thead>\n",
       "    <tr style=\"text-align: right;\">\n",
       "      <th></th>\n",
       "      <th>Close</th>\n",
       "      <th>Predicciones</th>\n",
       "    </tr>\n",
       "    <tr>\n",
       "      <th>Date</th>\n",
       "      <th></th>\n",
       "      <th></th>\n",
       "    </tr>\n",
       "  </thead>\n",
       "  <tbody>\n",
       "    <tr>\n",
       "      <th>2017-04-04</th>\n",
       "      <td>2360.16</td>\n",
       "      <td>2141.078494</td>\n",
       "    </tr>\n",
       "    <tr>\n",
       "      <th>2017-04-05</th>\n",
       "      <td>2352.95</td>\n",
       "      <td>2141.465842</td>\n",
       "    </tr>\n",
       "    <tr>\n",
       "      <th>2017-04-06</th>\n",
       "      <td>2357.49</td>\n",
       "      <td>2141.815035</td>\n",
       "    </tr>\n",
       "    <tr>\n",
       "      <th>2017-04-07</th>\n",
       "      <td>2355.54</td>\n",
       "      <td>2142.193809</td>\n",
       "    </tr>\n",
       "    <tr>\n",
       "      <th>2017-04-10</th>\n",
       "      <td>2357.16</td>\n",
       "      <td>2142.531200</td>\n",
       "    </tr>\n",
       "    <tr>\n",
       "      <th>...</th>\n",
       "      <td>...</td>\n",
       "      <td>...</td>\n",
       "    </tr>\n",
       "    <tr>\n",
       "      <th>2020-03-30</th>\n",
       "      <td>2626.65</td>\n",
       "      <td>1935.779686</td>\n",
       "    </tr>\n",
       "    <tr>\n",
       "      <th>2020-03-31</th>\n",
       "      <td>2584.59</td>\n",
       "      <td>1939.704102</td>\n",
       "    </tr>\n",
       "    <tr>\n",
       "      <th>2020-04-01</th>\n",
       "      <td>2470.50</td>\n",
       "      <td>1943.577054</td>\n",
       "    </tr>\n",
       "    <tr>\n",
       "      <th>2020-04-02</th>\n",
       "      <td>2526.90</td>\n",
       "      <td>1947.688555</td>\n",
       "    </tr>\n",
       "    <tr>\n",
       "      <th>2020-04-03</th>\n",
       "      <td>2488.65</td>\n",
       "      <td>1951.776810</td>\n",
       "    </tr>\n",
       "  </tbody>\n",
       "</table>\n",
       "<p>756 rows × 2 columns</p>\n",
       "</div>"
      ],
      "text/plain": [
       "              Close  Predicciones\n",
       "Date                             \n",
       "2017-04-04  2360.16   2141.078494\n",
       "2017-04-05  2352.95   2141.465842\n",
       "2017-04-06  2357.49   2141.815035\n",
       "2017-04-07  2355.54   2142.193809\n",
       "2017-04-10  2357.16   2142.531200\n",
       "...             ...           ...\n",
       "2020-03-30  2626.65   1935.779686\n",
       "2020-03-31  2584.59   1939.704102\n",
       "2020-04-01  2470.50   1943.577054\n",
       "2020-04-02  2526.90   1947.688555\n",
       "2020-04-03  2488.65   1951.776810\n",
       "\n",
       "[756 rows x 2 columns]"
      ]
     },
     "execution_count": 101,
     "metadata": {},
     "output_type": "execute_result"
    }
   ],
   "source": [
    "validacion"
   ]
  }
 ],
 "metadata": {
  "kernelspec": {
   "display_name": "proyect_fin",
   "language": "python",
   "name": "proyect_fin"
  },
  "language_info": {
   "codemirror_mode": {
    "name": "ipython",
    "version": 3
   },
   "file_extension": ".py",
   "mimetype": "text/x-python",
   "name": "python",
   "nbconvert_exporter": "python",
   "pygments_lexer": "ipython3",
   "version": "3.7.4"
  }
 },
 "nbformat": 4,
 "nbformat_minor": 4
}
